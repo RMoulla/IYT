{
  "nbformat": 4,
  "nbformat_minor": 0,
  "metadata": {
    "colab": {
      "provenance": [],
      "include_colab_link": true
    },
    "kernelspec": {
      "name": "python3",
      "display_name": "Python 3"
    },
    "language_info": {
      "name": "python"
    }
  },
  "cells": [
    {
      "cell_type": "markdown",
      "metadata": {
        "id": "view-in-github",
        "colab_type": "text"
      },
      "source": [
        "<a href=\"https://colab.research.google.com/github/RMoulla/IYT/blob/main/Python_Analyse_Donn%C3%A9es.ipynb\" target=\"_parent\"><img src=\"https://colab.research.google.com/assets/colab-badge.svg\" alt=\"Open In Colab\"/></a>"
      ]
    },
    {
      "cell_type": "markdown",
      "source": [
        "# **Fondamentaux de Python pour l'analyse des données**"
      ],
      "metadata": {
        "id": "H9ryDOoFCpgU"
      }
    },
    {
      "cell_type": "markdown",
      "source": [
        "## Première commande"
      ],
      "metadata": {
        "id": "7aNYwX46CvyL"
      }
    },
    {
      "cell_type": "code",
      "source": [
        "print(\"Hello word\")"
      ],
      "metadata": {
        "colab": {
          "base_uri": "https://localhost:8080/"
        },
        "id": "ltiFWO6kDMYn",
        "outputId": "dbfb4d85-7223-42ac-ee52-024fec3cf30a"
      },
      "execution_count": null,
      "outputs": [
        {
          "output_type": "stream",
          "name": "stdout",
          "text": [
            "4\n"
          ]
        }
      ]
    },
    {
      "cell_type": "markdown",
      "source": [
        "## Structure conditionnelle"
      ],
      "metadata": {
        "id": "e7gUpcHnDW1-"
      }
    },
    {
      "cell_type": "code",
      "source": [
        "nom = 'Alice'\n",
        "if nom == \"Alice\":\n",
        "    print(\"Salut Alice!\")\n",
        "else:\n",
        "    print(\"Salut camarade !\")"
      ],
      "metadata": {
        "colab": {
          "base_uri": "https://localhost:8080/"
        },
        "id": "nvSK13cjDu1X",
        "outputId": "ec63e29f-28b9-41ee-dc30-30620ea3c9e4"
      },
      "execution_count": null,
      "outputs": [
        {
          "output_type": "stream",
          "name": "stdout",
          "text": [
            "Salut Alice!\n"
          ]
        }
      ]
    },
    {
      "cell_type": "markdown",
      "source": [
        "## Boucles"
      ],
      "metadata": {
        "id": "ajL5566qD9YE"
      }
    },
    {
      "cell_type": "code",
      "source": [
        "for i in range(5):\n",
        "    print(i**2)"
      ],
      "metadata": {
        "colab": {
          "base_uri": "https://localhost:8080/"
        },
        "id": "5Jr3FaY5D_xq",
        "outputId": "65142c95-b2d3-453e-8f97-4cc180838de8"
      },
      "execution_count": null,
      "outputs": [
        {
          "output_type": "stream",
          "name": "stdout",
          "text": [
            "0\n",
            "1\n",
            "4\n",
            "9\n",
            "16\n"
          ]
        }
      ]
    },
    {
      "cell_type": "markdown",
      "source": [
        "## Opérations élémentaires"
      ],
      "metadata": {
        "id": "xgr5SDrNEHJN"
      }
    },
    {
      "cell_type": "code",
      "source": [
        "import math\n",
        "racine = math.sqrt(16)\n",
        "print(racine)"
      ],
      "metadata": {
        "colab": {
          "base_uri": "https://localhost:8080/"
        },
        "id": "BdOxseb5EXKb",
        "outputId": "b245dbef-74f3-4e91-8a02-6cfdce4daec7"
      },
      "execution_count": null,
      "outputs": [
        {
          "output_type": "stream",
          "name": "stdout",
          "text": [
            "4.0\n"
          ]
        }
      ]
    },
    {
      "cell_type": "code",
      "source": [
        "sinus = math.sin(math.pi/2)\n",
        "print(sinus)"
      ],
      "metadata": {
        "colab": {
          "base_uri": "https://localhost:8080/"
        },
        "id": "2KP0H3_jEdIb",
        "outputId": "568b16f9-7f0b-4708-96c8-0f9074975283"
      },
      "execution_count": null,
      "outputs": [
        {
          "output_type": "stream",
          "name": "stdout",
          "text": [
            "1.0\n"
          ]
        }
      ]
    },
    {
      "cell_type": "code",
      "source": [
        "sinus_hyperbolique = math.sinh(1)\n",
        "print(sinus_hyperbolique)"
      ],
      "metadata": {
        "id": "VQLEjF6HE3mA",
        "outputId": "bb469ac5-0a3e-41f2-ae29-16a51c785f68",
        "colab": {
          "base_uri": "https://localhost:8080/"
        }
      },
      "execution_count": null,
      "outputs": [
        {
          "output_type": "stream",
          "name": "stdout",
          "text": [
            "1.1752011936438014\n"
          ]
        }
      ]
    },
    {
      "cell_type": "markdown",
      "source": [
        "## Listes"
      ],
      "metadata": {
        "id": "TSgVMwpAFip9"
      }
    },
    {
      "cell_type": "markdown",
      "source": [
        "### Créer d'une liste\n",
        "Les listes sont créées en plaçant les éléments (éléments de la liste) entre crochets, séparés par des virgules."
      ],
      "metadata": {
        "id": "ePMnypJIFyMQ"
      }
    },
    {
      "cell_type": "code",
      "source": [
        "# Créer une liste\n",
        "ma_liste = [1, 2, 3, 4, 5]\n",
        "print(ma_liste)"
      ],
      "metadata": {
        "id": "Ihshg9UvFclB",
        "outputId": "5382a9ad-9ae5-44c6-8a04-dcbd9ef0e272",
        "colab": {
          "base_uri": "https://localhost:8080/"
        }
      },
      "execution_count": null,
      "outputs": [
        {
          "output_type": "stream",
          "name": "stdout",
          "text": [
            "[1, 2, 3, 4, 5]\n"
          ]
        }
      ]
    },
    {
      "cell_type": "markdown",
      "source": [
        "### Accéder aux éléments d'une liste\n",
        "\n",
        "On peut accéder aux éléments d'une liste en se référant à l'index."
      ],
      "metadata": {
        "id": "mvu4H_q_F6sV"
      }
    },
    {
      "cell_type": "code",
      "source": [
        "print(ma_liste[0])  # Affiche 1\n",
        "print(ma_liste[3])  # Affiche 3\n",
        "print(ma_liste[-1]) # Affiche le dernier élément, 5"
      ],
      "metadata": {
        "id": "6UzDK9GfFqps",
        "outputId": "36c6460e-7583-46b3-ed18-7acaeef1dd99",
        "colab": {
          "base_uri": "https://localhost:8080/"
        }
      },
      "execution_count": null,
      "outputs": [
        {
          "output_type": "stream",
          "name": "stdout",
          "text": [
            "1\n",
            "4\n",
            "5\n"
          ]
        }
      ]
    },
    {
      "cell_type": "markdown",
      "source": [
        "### Modifier un élément\n",
        "\n",
        "On peut modifier un élément d'une liste à l'aide de son index."
      ],
      "metadata": {
        "id": "kvOQpxV6GRCr"
      }
    },
    {
      "cell_type": "code",
      "source": [
        "ma_liste[2] = 33\n",
        "print(ma_liste)"
      ],
      "metadata": {
        "id": "2bq9uCRQFq28",
        "outputId": "733f99a4-cc44-4f75-90c7-f16198f51dff",
        "colab": {
          "base_uri": "https://localhost:8080/"
        }
      },
      "execution_count": null,
      "outputs": [
        {
          "output_type": "stream",
          "name": "stdout",
          "text": [
            "[1, 2, 33, 4, 5]\n"
          ]
        }
      ]
    },
    {
      "cell_type": "markdown",
      "source": [
        "### Ajouter des éléments"
      ],
      "metadata": {
        "id": "Uz5dw4VVGiOV"
      }
    },
    {
      "cell_type": "code",
      "source": [
        "# Utiliser append pour ajouter à la fin\n",
        "ma_liste.append(6)\n",
        "print(ma_liste)\n",
        "# Utiliser insert pour ajouter à une position spécifique\n",
        "ma_liste.insert(1, 1.5)  # Ajoute 1.5 à la position 1\n",
        "print(ma_liste)"
      ],
      "metadata": {
        "id": "nJVVfyvHGmR3",
        "outputId": "2ee85339-e606-4e4f-9ec1-f314f1cdf102",
        "colab": {
          "base_uri": "https://localhost:8080/"
        }
      },
      "execution_count": null,
      "outputs": [
        {
          "output_type": "stream",
          "name": "stdout",
          "text": [
            "[1, 2, 33, 4, 5, 6]\n",
            "[1, 1.5, 2, 33, 4, 5, 6]\n"
          ]
        }
      ]
    },
    {
      "cell_type": "markdown",
      "source": [
        "### Supprimer des éléments"
      ],
      "metadata": {
        "id": "iwvuLmWzHNMU"
      }
    },
    {
      "cell_type": "code",
      "source": [
        "# Supprimer un élément à un index spécifique\n",
        "del ma_liste[1]\n",
        "\n",
        "# Supprimer un élément spécifique (la première occurrence)\n",
        "ma_liste.remove(33)\n",
        "\n",
        "# Supprimer et retourner le dernier élément\n",
        "ma_liste.pop()"
      ],
      "metadata": {
        "id": "1w-0Xay1HQmx",
        "outputId": "4dc122cd-3c70-4e5b-9924-654c3dc04aa3",
        "colab": {
          "base_uri": "https://localhost:8080/"
        }
      },
      "execution_count": null,
      "outputs": [
        {
          "output_type": "execute_result",
          "data": {
            "text/plain": [
              "6"
            ]
          },
          "metadata": {},
          "execution_count": 19
        }
      ]
    },
    {
      "cell_type": "code",
      "source": [
        "print(ma_liste)"
      ],
      "metadata": {
        "id": "U4A9Gs0RHcor",
        "outputId": "ad51befc-febe-4890-ae9c-535c297eed65",
        "colab": {
          "base_uri": "https://localhost:8080/"
        }
      },
      "execution_count": null,
      "outputs": [
        {
          "output_type": "stream",
          "name": "stdout",
          "text": [
            "[1, 2, 4, 5]\n"
          ]
        }
      ]
    },
    {
      "cell_type": "markdown",
      "source": [
        "### Etendre une liste"
      ],
      "metadata": {
        "id": "3bxnznFlHkoo"
      }
    },
    {
      "cell_type": "code",
      "source": [
        "autre_liste = [7, 8, 9]\n",
        "ma_liste.extend(autre_liste)\n",
        "print(ma_liste)"
      ],
      "metadata": {
        "id": "XnRMIqEDHnz-",
        "outputId": "97ac4d43-d240-44b2-db74-600f3df8bff6",
        "colab": {
          "base_uri": "https://localhost:8080/"
        }
      },
      "execution_count": null,
      "outputs": [
        {
          "output_type": "stream",
          "name": "stdout",
          "text": [
            "[1, 2, 4, 5, 7, 8, 9]\n"
          ]
        }
      ]
    },
    {
      "cell_type": "markdown",
      "source": [
        "### Identifier l'index d'un élément"
      ],
      "metadata": {
        "id": "-T0z4dWLHuHO"
      }
    },
    {
      "cell_type": "code",
      "source": [
        "index = ma_liste.index(4)\n",
        "print(index)  # Affiche l'index de la première occurrence de 4"
      ],
      "metadata": {
        "id": "5jPSiUf9HygB",
        "outputId": "dd05b790-c90b-420d-d893-ed122507d906",
        "colab": {
          "base_uri": "https://localhost:8080/"
        }
      },
      "execution_count": null,
      "outputs": [
        {
          "output_type": "stream",
          "name": "stdout",
          "text": [
            "2\n"
          ]
        }
      ]
    },
    {
      "cell_type": "markdown",
      "source": [
        "### Trier une liste"
      ],
      "metadata": {
        "id": "4kbJVg7MH2_R"
      }
    },
    {
      "cell_type": "code",
      "source": [
        "ma_liste.sort()        # Trier en ordre croissant\n",
        "print(ma_liste)\n",
        "ma_liste.sort(reverse=True) # Trier en ordre décroissant\n",
        "print(ma_liste)"
      ],
      "metadata": {
        "id": "pYsgRy0NH6qJ",
        "outputId": "22fa9c76-23d8-486f-8da3-f01decb36175",
        "colab": {
          "base_uri": "https://localhost:8080/"
        }
      },
      "execution_count": null,
      "outputs": [
        {
          "output_type": "stream",
          "name": "stdout",
          "text": [
            "[1, 2, 4, 5, 7, 8, 9]\n",
            "[9, 8, 7, 5, 4, 2, 1]\n"
          ]
        }
      ]
    },
    {
      "cell_type": "markdown",
      "source": [
        "### List comprehension"
      ],
      "metadata": {
        "id": "BP6INEVGIMJ_"
      }
    },
    {
      "cell_type": "code",
      "source": [
        "carrés = [x**2 for x in range(10)]\n",
        "print(carrés)"
      ],
      "metadata": {
        "id": "2tYVHV1NIROb",
        "outputId": "1b8bbde4-e1c1-4feb-dabd-d360fa860ea1",
        "colab": {
          "base_uri": "https://localhost:8080/"
        }
      },
      "execution_count": null,
      "outputs": [
        {
          "output_type": "stream",
          "name": "stdout",
          "text": [
            "[0, 1, 4, 9, 16, 25, 36, 49, 64, 81]\n"
          ]
        }
      ]
    },
    {
      "cell_type": "markdown",
      "source": [
        "### Copier une liste"
      ],
      "metadata": {
        "id": "zVblod95IcRF"
      }
    },
    {
      "cell_type": "code",
      "source": [
        "copie = ma_liste.copy()\n",
        "print(copie)"
      ],
      "metadata": {
        "id": "Ft14rY5YIbCh",
        "outputId": "8bfe9dc4-3b12-4c2d-dd36-542221d5beed",
        "colab": {
          "base_uri": "https://localhost:8080/"
        }
      },
      "execution_count": null,
      "outputs": [
        {
          "output_type": "stream",
          "name": "stdout",
          "text": [
            "[9, 8, 7, 5, 4, 2, 1]\n"
          ]
        }
      ]
    },
    {
      "cell_type": "markdown",
      "source": [
        "### Vider une liste"
      ],
      "metadata": {
        "id": "vtMyPjKyJYO7"
      }
    },
    {
      "cell_type": "code",
      "source": [
        "ma_liste.clear()"
      ],
      "metadata": {
        "id": "w7q6WnrCJaHI"
      },
      "execution_count": null,
      "outputs": []
    },
    {
      "cell_type": "code",
      "source": [
        "liste2 = [2, \"chat\", \"poisson\", 4]\n",
        "for elem in liste2:\n",
        "  print(elem)"
      ],
      "metadata": {
        "colab": {
          "base_uri": "https://localhost:8080/"
        },
        "id": "bdm3rBcvlUzX",
        "outputId": "8897097b-6650-45e1-8143-b78bde707db4"
      },
      "execution_count": null,
      "outputs": [
        {
          "output_type": "stream",
          "name": "stdout",
          "text": [
            "2\n",
            "chat\n",
            "poisson\n",
            "4\n"
          ]
        }
      ]
    },
    {
      "cell_type": "markdown",
      "source": [
        "## Dictionnaires"
      ],
      "metadata": {
        "id": "-bkRbp50JrGf"
      }
    },
    {
      "cell_type": "markdown",
      "source": [
        "### Créer un dictionnaire"
      ],
      "metadata": {
        "id": "86McKZQRJvVv"
      }
    },
    {
      "cell_type": "code",
      "source": [
        "val_clé_dict = {\"clé1\": \"valeur1\", \"clé2\": \"valeur2\", \"clé3\": \"valeur3\"}\n",
        "print(val_clé_dict)"
      ],
      "metadata": {
        "id": "Co_iEzuTJuMr",
        "outputId": "a4a7532c-ee1f-4ad9-e9d0-9f08b0896734",
        "colab": {
          "base_uri": "https://localhost:8080/"
        }
      },
      "execution_count": null,
      "outputs": [
        {
          "output_type": "stream",
          "name": "stdout",
          "text": [
            "{'clé1': 'valeur1', 'clé2': 'valeur2', 'clé3': 'valeur3'}\n"
          ]
        }
      ]
    },
    {
      "cell_type": "markdown",
      "source": [
        "### Créer un dictionnaire à partir de listes"
      ],
      "metadata": {
        "id": "XeAHWr9PKIHv"
      }
    },
    {
      "cell_type": "code",
      "source": [
        "list1 = [\"Tom\", \"Alice\", \"Bob\"]\n",
        "list2 = [42, 30, 35]\n",
        "mon_dict = dict(zip(list1, list2))\n",
        "print(mon_dict)"
      ],
      "metadata": {
        "id": "YzanFtBjKLkE",
        "outputId": "360542e8-39d9-463e-9ff2-e3e966f4f622",
        "colab": {
          "base_uri": "https://localhost:8080/"
        }
      },
      "execution_count": null,
      "outputs": [
        {
          "output_type": "stream",
          "name": "stdout",
          "text": [
            "{'Tom': 42, 'Alice': 30, 'Bob': 35}\n"
          ]
        }
      ]
    },
    {
      "cell_type": "markdown",
      "source": [
        "### Accéder à une valeur par sa clé"
      ],
      "metadata": {
        "id": "1spTvtltK-Be"
      }
    },
    {
      "cell_type": "code",
      "source": [
        "valeur = mon_dict[\"Alice\"]\n",
        "print(valeur)"
      ],
      "metadata": {
        "id": "-KhSrw-LLFC1",
        "outputId": "01cf585d-b29d-4d9e-e5df-680ffa5f51a0",
        "colab": {
          "base_uri": "https://localhost:8080/"
        }
      },
      "execution_count": null,
      "outputs": [
        {
          "output_type": "stream",
          "name": "stdout",
          "text": [
            "30\n"
          ]
        }
      ]
    },
    {
      "cell_type": "markdown",
      "source": [
        "### Ajouter ou modifier des éléments"
      ],
      "metadata": {
        "id": "p5sIS7YcLLj7"
      }
    },
    {
      "cell_type": "code",
      "source": [
        "mon_dict[\"Bob\"] = 45\n",
        "print(mon_dict[\"Bob\"])\n",
        "mon_dict[\"Anna\"] = 36\n",
        "print(mon_dict)"
      ],
      "metadata": {
        "id": "P6K6VGfxLeWX",
        "outputId": "ab52be0a-4834-4302-ac81-6cb2c4138db2",
        "colab": {
          "base_uri": "https://localhost:8080/"
        }
      },
      "execution_count": null,
      "outputs": [
        {
          "output_type": "stream",
          "name": "stdout",
          "text": [
            "45\n",
            "{'Tom': 42, 'Alice': 30, 'Bob': 45, 'Anna': 36}\n"
          ]
        }
      ]
    },
    {
      "cell_type": "markdown",
      "source": [
        "### Supprimer un élément"
      ],
      "metadata": {
        "id": "ctyuDTGHMG99"
      }
    },
    {
      "cell_type": "code",
      "source": [
        "del mon_dict[\"Anna\"]\n",
        "print(mon_dict)"
      ],
      "metadata": {
        "id": "cnD3d2hRMC-f",
        "outputId": "75c583bf-55ef-4cc6-b612-60e2bcd3af91",
        "colab": {
          "base_uri": "https://localhost:8080/"
        }
      },
      "execution_count": null,
      "outputs": [
        {
          "output_type": "stream",
          "name": "stdout",
          "text": [
            "{'Tom': 42, 'Alice': 30, 'Bob': 45}\n"
          ]
        }
      ]
    },
    {
      "cell_type": "markdown",
      "source": [
        "### Obtenir les clés, les valeurs, et les paires clé-valeur"
      ],
      "metadata": {
        "id": "eTNEeRV5MZXX"
      }
    },
    {
      "cell_type": "code",
      "source": [
        "clés = mon_dict.keys()\n",
        "print(clés)\n",
        "valeurs = mon_dict.values()\n",
        "print(valeurs)\n",
        "paires = mon_dict.items()\n",
        "print(paires)"
      ],
      "metadata": {
        "id": "7xLGswOSMb4j",
        "outputId": "cca64197-876e-4c86-fdc2-c8cafe00f34d",
        "colab": {
          "base_uri": "https://localhost:8080/"
        }
      },
      "execution_count": null,
      "outputs": [
        {
          "output_type": "stream",
          "name": "stdout",
          "text": [
            "dict_keys(['Tom', 'Alice', 'Bob'])\n",
            "dict_values([42, 30, 45])\n",
            "dict_items([('Tom', 42), ('Alice', 30), ('Bob', 45)])\n"
          ]
        }
      ]
    },
    {
      "cell_type": "markdown",
      "source": [
        "### Fusionner deux dictionnaires\n"
      ],
      "metadata": {
        "id": "eGSWHhXiMvwq"
      }
    },
    {
      "cell_type": "code",
      "source": [
        "dict2 = {\"Aline\": 25, \"Théo\": 22}\n",
        "mon_dict.update(dict2)\n",
        "print(mon_dict)"
      ],
      "metadata": {
        "id": "CBhOa2V6M2B6",
        "outputId": "69b3b44e-a62b-481d-b971-fe90b9b189c7",
        "colab": {
          "base_uri": "https://localhost:8080/"
        }
      },
      "execution_count": null,
      "outputs": [
        {
          "output_type": "stream",
          "name": "stdout",
          "text": [
            "{'Tom': 42, 'Alice': 30, 'Bob': 45, 'Aline': 25, 'Théo': 22}\n"
          ]
        }
      ]
    },
    {
      "cell_type": "markdown",
      "source": [
        "### Dictionnaire comprehension"
      ],
      "metadata": {
        "id": "5vlFVBcPNYYL"
      }
    },
    {
      "cell_type": "code",
      "source": [
        "carrés = {x: x**2 for x in (2, 4, 6)}\n",
        "print(carrés)"
      ],
      "metadata": {
        "id": "afaQ17EQNeBu",
        "outputId": "e47f5504-22d6-4d56-b4b7-ab9f764a1f5f",
        "colab": {
          "base_uri": "https://localhost:8080/"
        }
      },
      "execution_count": null,
      "outputs": [
        {
          "output_type": "stream",
          "name": "stdout",
          "text": [
            "{2: 4, 4: 16, 6: 36}\n"
          ]
        }
      ]
    },
    {
      "cell_type": "markdown",
      "source": [
        "### Copier un dictionnaire\n",
        "\n"
      ],
      "metadata": {
        "id": "tsouCufWNnVv"
      }
    },
    {
      "cell_type": "code",
      "source": [
        "copie_dict = mon_dict.copy()\n",
        "print(copie_dict)"
      ],
      "metadata": {
        "id": "WYSl2UMhN0KW",
        "outputId": "e4fdb2b3-2bc7-4232-f73f-faf0626c8b1d",
        "colab": {
          "base_uri": "https://localhost:8080/"
        }
      },
      "execution_count": null,
      "outputs": [
        {
          "output_type": "stream",
          "name": "stdout",
          "text": [
            "{'Tom': 42, 'Alice': 30, 'Bob': 45, 'Aline': 25, 'Théo': 22}\n"
          ]
        }
      ]
    },
    {
      "cell_type": "markdown",
      "source": [
        "## **Calcul agébrique avec Numpy**"
      ],
      "metadata": {
        "id": "XGGRy4icN-f5"
      }
    },
    {
      "cell_type": "markdown",
      "source": [
        "### Créer un tableau"
      ],
      "metadata": {
        "id": "CNlE8yXPOFEK"
      }
    },
    {
      "cell_type": "code",
      "source": [
        "import numpy as np\n",
        "\n",
        "arr1 = np.array([1, 2, 3, 4, 5])\n",
        "print(arr1)\n",
        "arr2 = np.array([[1, 2], [3, 4], [5, 6]])\n",
        "print(arr2)"
      ],
      "metadata": {
        "id": "vHvyiDn5OCtt",
        "outputId": "5b4719fb-913b-4bf3-8f8e-bb3b7d730c1e",
        "colab": {
          "base_uri": "https://localhost:8080/"
        }
      },
      "execution_count": null,
      "outputs": [
        {
          "output_type": "stream",
          "name": "stdout",
          "text": [
            "[1 2 3 4 5]\n",
            "[[1 2]\n",
            " [3 4]\n",
            " [5 6]]\n"
          ]
        }
      ]
    },
    {
      "cell_type": "markdown",
      "source": [
        "### Accéder aux éléments d'un tableau"
      ],
      "metadata": {
        "id": "AtZija_jOftQ"
      }
    },
    {
      "cell_type": "code",
      "source": [
        "print(arr1[1])\n",
        "print(arr2[1])"
      ],
      "metadata": {
        "id": "ChiZMLggOkUj",
        "outputId": "cce83c50-b750-4c7a-afed-8ce7ec3ebbe1",
        "colab": {
          "base_uri": "https://localhost:8080/"
        }
      },
      "execution_count": null,
      "outputs": [
        {
          "output_type": "stream",
          "name": "stdout",
          "text": [
            "2\n",
            "[3 4]\n"
          ]
        }
      ]
    },
    {
      "cell_type": "markdown",
      "source": [
        "### Slicing"
      ],
      "metadata": {
        "id": "3TFiEkGfO2ym"
      }
    },
    {
      "cell_type": "code",
      "source": [
        "print(arr1[1:3])\n",
        "print(arr2[:,1])"
      ],
      "metadata": {
        "id": "8fUfS0mJO4cR",
        "outputId": "b03b2d04-174e-485e-b407-7dc22c2f84bb",
        "colab": {
          "base_uri": "https://localhost:8080/"
        }
      },
      "execution_count": null,
      "outputs": [
        {
          "output_type": "stream",
          "name": "stdout",
          "text": [
            "[2 3]\n",
            "[2 4 6]\n"
          ]
        }
      ]
    },
    {
      "cell_type": "markdown",
      "source": [
        "### Quelques propriétés des tableaux"
      ],
      "metadata": {
        "id": "3g4yAWymPd0h"
      }
    },
    {
      "cell_type": "code",
      "source": [
        "shape = arr2.shape\n",
        "print(shape)        # Dimensions du tableau (nombre de lignes, nombre de colonnes)\n",
        "size = arr2.size          # Nombre total d'éléments\n",
        "print(size)\n",
        "atype = arr1.dtype         # Type de données des éléments\n",
        "print(atype)"
      ],
      "metadata": {
        "id": "jmN0Wk6-Pihj",
        "colab": {
          "base_uri": "https://localhost:8080/"
        },
        "outputId": "cf95f9ea-6b75-4d7f-b497-1cd7b25aaf6e"
      },
      "execution_count": null,
      "outputs": [
        {
          "output_type": "stream",
          "name": "stdout",
          "text": [
            "(3, 2)\n",
            "6\n",
            "int64\n"
          ]
        }
      ]
    },
    {
      "cell_type": "markdown",
      "source": [
        "### Opérations sur les tableaux"
      ],
      "metadata": {
        "id": "K5C4yuqyPs11"
      }
    },
    {
      "cell_type": "code",
      "source": [
        "arr1"
      ],
      "metadata": {
        "colab": {
          "base_uri": "https://localhost:8080/"
        },
        "id": "ON4itp0MWXAO",
        "outputId": "05987e24-2804-4e29-a70c-d32f90ff7617"
      },
      "execution_count": null,
      "outputs": [
        {
          "output_type": "execute_result",
          "data": {
            "text/plain": [
              "array([1, 2, 3, 4, 5])"
            ]
          },
          "metadata": {},
          "execution_count": 17
        }
      ]
    },
    {
      "cell_type": "code",
      "source": [
        "arr_sum = arr1 + 10                  # Ajoute 10 à chaque élément\n",
        "print(arr_sum)\n",
        "product = np.dot(arr1, arr1)         # Produit scalaire de arr1 avec lui-même\n",
        "print(product)\n",
        "multiply = arr1 * arr1              # Multiplie chaque élément par lui-même\n",
        "print(multiply)"
      ],
      "metadata": {
        "id": "63VNIsMXPwI8",
        "colab": {
          "base_uri": "https://localhost:8080/"
        },
        "outputId": "a713f1b5-d9bd-43c6-d870-9ccbb9bac7ab"
      },
      "execution_count": null,
      "outputs": [
        {
          "output_type": "stream",
          "name": "stdout",
          "text": [
            "[11 12 13 14 15]\n",
            "55\n",
            "[ 1  4  9 16 25]\n"
          ]
        }
      ]
    },
    {
      "cell_type": "markdown",
      "source": [
        "### Quelques tableaux par défaut"
      ],
      "metadata": {
        "id": "vqRBIyaVP342"
      }
    },
    {
      "cell_type": "code",
      "source": [
        "arr_zeros = np.zeros(5)              # Tableau de 5 zéros\n",
        "print(arr_zeros)\n",
        "arr_ones = np.ones((3, 2))           # Tableau 3x2 de uns\n",
        "print(arr_ones)\n",
        "arr_range = np.arange(0, 10, 2)      # Tableau [0, 2, 4, 6, 8]\n",
        "arr_linspace = np.linspace(0, 1, 5)  # Tableau [0, 0.25, 0.5, 0.75, 1]"
      ],
      "metadata": {
        "id": "dyRlGBbrQE7F",
        "colab": {
          "base_uri": "https://localhost:8080/"
        },
        "outputId": "eee2941a-2295-4110-96d7-32be14bec9cd"
      },
      "execution_count": null,
      "outputs": [
        {
          "output_type": "stream",
          "name": "stdout",
          "text": [
            "[0. 0. 0. 0. 0.]\n",
            "[[1. 1.]\n",
            " [1. 1.]\n",
            " [1. 1.]]\n"
          ]
        }
      ]
    },
    {
      "cell_type": "markdown",
      "source": [
        "### Manipulation des formes"
      ],
      "metadata": {
        "id": "okCnxDOsQpQn"
      }
    },
    {
      "cell_type": "code",
      "source": [
        "arr_flatten = arr2.flatten()      # Convertit en un tableau 1D\n",
        "print(arr_flatten)\n",
        "arr_reshape = arr1.reshape(5, 1)   # Reshape en colonne 5x1"
      ],
      "metadata": {
        "id": "1BMKurnSQtNC",
        "colab": {
          "base_uri": "https://localhost:8080/"
        },
        "outputId": "3453e46d-df0e-48f4-a788-4fe65722900c"
      },
      "execution_count": null,
      "outputs": [
        {
          "output_type": "stream",
          "name": "stdout",
          "text": [
            "[1 2 3 4 5 6]\n"
          ]
        }
      ]
    },
    {
      "cell_type": "markdown",
      "source": [
        "## **DataFrames avec Pandas**\n"
      ],
      "metadata": {
        "id": "qgV9eqF_Q7B7"
      }
    },
    {
      "cell_type": "markdown",
      "source": [
        "### Créer un DataFrame"
      ],
      "metadata": {
        "id": "qFIPYJ5pROvY"
      }
    },
    {
      "cell_type": "code",
      "source": [
        "import pandas as pd\n",
        "\n",
        "data = {\n",
        "    'Nom': ['Alice', 'Bob', 'Charlie'],\n",
        "    'Age': [25, 30, 35],\n",
        "    'Ville': ['Paris', 'Lyon', 'Marseille']\n",
        "}\n",
        "\n",
        "df = pd.DataFrame(data)\n",
        "print(df)"
      ],
      "metadata": {
        "id": "nv8oB0CVRSIi",
        "outputId": "35d19073-a1e7-4005-f690-2b4f247e5ca9",
        "colab": {
          "base_uri": "https://localhost:8080/"
        }
      },
      "execution_count": null,
      "outputs": [
        {
          "output_type": "stream",
          "name": "stdout",
          "text": [
            "       Nom  Age      Ville\n",
            "0    Alice   25      Paris\n",
            "1      Bob   30       Lyon\n",
            "2  Charlie   35  Marseille\n"
          ]
        }
      ]
    },
    {
      "cell_type": "markdown",
      "source": [
        "### Sélectionner des donnée"
      ],
      "metadata": {
        "id": "FSIvp12fRhJT"
      }
    },
    {
      "cell_type": "code",
      "source": [
        "# Colonnes\n",
        "noms = df['Nom']\n",
        "subset = df[['Nom', 'Age']]\n",
        "\n",
        "# Lignes\n",
        "ligne_2 = df.iloc[1]  # Par index numérique\n",
        "ligne_bob = df[df['Nom'] == 'Bob']  # Par condition\n",
        "\n",
        "# Combinaisons\n",
        "cellule = df.at[1, 'Nom']  # Valeur de la cellule ligne 2, colonne \"Nom\"\n",
        "print(cellule)"
      ],
      "metadata": {
        "id": "6SZ4cfUCRZ4z",
        "outputId": "c69f9aea-8fba-48cc-8632-bcf8a16f7dc5",
        "colab": {
          "base_uri": "https://localhost:8080/"
        }
      },
      "execution_count": null,
      "outputs": [
        {
          "output_type": "stream",
          "name": "stdout",
          "text": [
            "Bob\n"
          ]
        }
      ]
    },
    {
      "cell_type": "markdown",
      "source": [
        "### Manipulation des données"
      ],
      "metadata": {
        "id": "_IF8sMz2R5EB"
      }
    },
    {
      "cell_type": "code",
      "source": [
        "# Ajouter une colonne\n",
        "df['Profession'] = ['Ingénieur', 'Médecin', 'Avocat']\n",
        "\n",
        "# Supprimer une colonne\n",
        "df = df.drop(columns=['Profession'])\n",
        "\n",
        "# Renommer les colonnes\n",
        "df = df.rename(columns={'Nom': 'Prénom'})\n",
        "\n",
        "# Trier\n",
        "df = df.sort_values(by='Age', ascending=False)"
      ],
      "metadata": {
        "id": "hi_RhVdWR_yz"
      },
      "execution_count": null,
      "outputs": []
    },
    {
      "cell_type": "markdown",
      "source": [
        "### Gérer les données manquantes"
      ],
      "metadata": {
        "id": "OysSvl2OSHng"
      }
    },
    {
      "cell_type": "code",
      "source": [
        "# Supprimer les lignes avec des données manquantes\n",
        "df = df.dropna()\n",
        "\n",
        "# Remplacer les données manquantes\n",
        "df = df.fillna(value=0)"
      ],
      "metadata": {
        "id": "K0B77lY1SDL9"
      },
      "execution_count": null,
      "outputs": []
    },
    {
      "cell_type": "markdown",
      "source": [
        "### Fonctions d'agrégation"
      ],
      "metadata": {
        "id": "WGnndcYpSbf4"
      }
    },
    {
      "cell_type": "code",
      "source": [
        "moyenne_age = df['Age'].mean()\n",
        "print(moyenne_age)\n",
        "total = df['Age'].sum()\n",
        "print(total)"
      ],
      "metadata": {
        "id": "CHLfEutTSjAm",
        "outputId": "f88ee52c-092e-45a2-f621-ca53a238542d",
        "colab": {
          "base_uri": "https://localhost:8080/"
        }
      },
      "execution_count": null,
      "outputs": [
        {
          "output_type": "stream",
          "name": "stdout",
          "text": [
            "30.0\n",
            "90\n"
          ]
        }
      ]
    },
    {
      "cell_type": "markdown",
      "source": [
        "### Ajouter une ligne"
      ],
      "metadata": {
        "id": "a9NgyGZATX1L"
      }
    },
    {
      "cell_type": "code",
      "source": [
        "nouvelle_ligne = pd.DataFrame({\n",
        "    'Prénom': ['David'],\n",
        "    'Age': [40],\n",
        "    'Ville': ['Marseille']\n",
        "})\n",
        "\n",
        "df = pd.concat([df, nouvelle_ligne])\n",
        "print(df)"
      ],
      "metadata": {
        "id": "A1RIYK9BTaCj",
        "outputId": "4f417898-3426-4e77-c6d4-a9c8a9892146",
        "colab": {
          "base_uri": "https://localhost:8080/"
        }
      },
      "execution_count": null,
      "outputs": [
        {
          "output_type": "stream",
          "name": "stdout",
          "text": [
            "    Prénom  Age      Ville\n",
            "2  Charlie   35  Marseille\n",
            "1      Bob   30       Lyon\n",
            "0    Alice   25      Paris\n",
            "0    David   40  Marseille\n"
          ]
        }
      ]
    },
    {
      "cell_type": "markdown",
      "source": [
        "### Grouper des données"
      ],
      "metadata": {
        "id": "g2ZPyCDCSbjw"
      }
    },
    {
      "cell_type": "code",
      "source": [
        "grouped = df.groupby('Ville').sum()\n",
        "print(grouped)"
      ],
      "metadata": {
        "id": "OLb-NsmVS_b-",
        "outputId": "64f18c70-0a88-4b35-c423-be57ee1b1908",
        "colab": {
          "base_uri": "https://localhost:8080/"
        }
      },
      "execution_count": null,
      "outputs": [
        {
          "output_type": "stream",
          "name": "stdout",
          "text": [
            "           Age\n",
            "Ville         \n",
            "Lyon        30\n",
            "Marseille   75\n",
            "Paris       25\n"
          ]
        },
        {
          "output_type": "stream",
          "name": "stderr",
          "text": [
            "<ipython-input-106-37df70100e6e>:1: FutureWarning: The default value of numeric_only in DataFrameGroupBy.sum is deprecated. In a future version, numeric_only will default to False. Either specify numeric_only or select only columns which should be valid for the function.\n",
            "  grouped = df.groupby('Ville').sum()\n"
          ]
        }
      ]
    },
    {
      "cell_type": "markdown",
      "source": [
        "### Sauvegarder un DataFrame"
      ],
      "metadata": {
        "id": "tWCPoW7DVV8g"
      }
    },
    {
      "cell_type": "code",
      "source": [
        "df.to_csv('mon_nouveau_fichier.csv', index=False)\n",
        "df.to_excel('mon_nouveau_fichier.xlsx', index=False)"
      ],
      "metadata": {
        "id": "2Xhup36PVaZa"
      },
      "execution_count": null,
      "outputs": []
    },
    {
      "cell_type": "markdown",
      "source": [
        "## **Visualisation des données avec Matplotlib et Seaborn**"
      ],
      "metadata": {
        "id": "a7Q-OUcguw8g"
      }
    },
    {
      "cell_type": "markdown",
      "source": [
        "### Création de données synthétiques\n",
        "\n",
        "Nous allons d'abord générer un dataset synthétique contenant 1000 observations. Le dataset comprend :\n",
        "* 3 variables numériques continues (Prix, Nombre de visiteurs, Budget publicitaire)\n",
        "* Une variable catégorielle (Catégorie de produit)\n",
        "* Une variable numérique cible (Ventes)"
      ],
      "metadata": {
        "id": "JvD73m8Cu-YG"
      }
    },
    {
      "cell_type": "code",
      "source": [
        "import numpy as np\n",
        "import pandas as pd\n",
        "import matplotlib.pyplot as plt\n",
        "import seaborn as sns\n",
        "\n",
        "# Fixer la graine pour la reproductibilité\n",
        "np.random.seed(42)\n",
        "\n",
        "# Génération du dataset synthétique\n",
        "n = 1000\n",
        "categories = ['Électronique', 'Vêtements', 'Maison', 'Beauté']\n",
        "\n",
        "prix = np.random.uniform(5, 100, n)\n",
        "visiteurs = np.random.randint(50, 1000, n)\n",
        "budget_pub = np.random.uniform(100, 5000, n)\n",
        "categorie = np.random.choice(categories, n)\n",
        "\n",
        "# La cible : ventes (une combinaison des autres facteurs avec un bruit aléatoire)\n",
        "ventes = 0.3 * visiteurs + 0.5 * budget_pub - 0.2 * prix + np.random.normal(0, 50, n)\n",
        "ventes = np.maximum(ventes, 0)  # Pas de valeurs négatives\n",
        "\n",
        "# Création du DataFrame\n",
        "df = pd.DataFrame({\n",
        "    'Prix': prix,\n",
        "    'Visiteurs': visiteurs,\n",
        "    'Budget_Publicité': budget_pub,\n",
        "    'Catégorie': categorie,\n",
        "    'Ventes': ventes\n",
        "})\n",
        "\n",
        "# Aperçu des données\n",
        "df.head()"
      ],
      "metadata": {
        "colab": {
          "base_uri": "https://localhost:8080/",
          "height": 206
        },
        "id": "jOsXe6GNvtP0",
        "outputId": "9977221f-b85c-4c6b-fffe-00dd2cabaf4b"
      },
      "execution_count": null,
      "outputs": [
        {
          "output_type": "execute_result",
          "data": {
            "text/plain": [
              "        Prix  Visiteurs  Budget_Publicité     Catégorie       Ventes\n",
              "0  40.581311        864       1139.019716  Électronique   824.972506\n",
              "1  95.317859         61       3093.806845        Maison  1565.936635\n",
              "2  74.539424        367       2114.039502        Maison  1148.042652\n",
              "3  61.872556        641       4215.320384     Vêtements  2296.870310\n",
              "4  19.821771        265       4510.113305        Beauté  2340.458661"
            ],
            "text/html": [
              "\n",
              "  <div id=\"df-a42ca058-9625-445b-839e-803905d93bf0\" class=\"colab-df-container\">\n",
              "    <div>\n",
              "<style scoped>\n",
              "    .dataframe tbody tr th:only-of-type {\n",
              "        vertical-align: middle;\n",
              "    }\n",
              "\n",
              "    .dataframe tbody tr th {\n",
              "        vertical-align: top;\n",
              "    }\n",
              "\n",
              "    .dataframe thead th {\n",
              "        text-align: right;\n",
              "    }\n",
              "</style>\n",
              "<table border=\"1\" class=\"dataframe\">\n",
              "  <thead>\n",
              "    <tr style=\"text-align: right;\">\n",
              "      <th></th>\n",
              "      <th>Prix</th>\n",
              "      <th>Visiteurs</th>\n",
              "      <th>Budget_Publicité</th>\n",
              "      <th>Catégorie</th>\n",
              "      <th>Ventes</th>\n",
              "    </tr>\n",
              "  </thead>\n",
              "  <tbody>\n",
              "    <tr>\n",
              "      <th>0</th>\n",
              "      <td>40.581311</td>\n",
              "      <td>864</td>\n",
              "      <td>1139.019716</td>\n",
              "      <td>Électronique</td>\n",
              "      <td>824.972506</td>\n",
              "    </tr>\n",
              "    <tr>\n",
              "      <th>1</th>\n",
              "      <td>95.317859</td>\n",
              "      <td>61</td>\n",
              "      <td>3093.806845</td>\n",
              "      <td>Maison</td>\n",
              "      <td>1565.936635</td>\n",
              "    </tr>\n",
              "    <tr>\n",
              "      <th>2</th>\n",
              "      <td>74.539424</td>\n",
              "      <td>367</td>\n",
              "      <td>2114.039502</td>\n",
              "      <td>Maison</td>\n",
              "      <td>1148.042652</td>\n",
              "    </tr>\n",
              "    <tr>\n",
              "      <th>3</th>\n",
              "      <td>61.872556</td>\n",
              "      <td>641</td>\n",
              "      <td>4215.320384</td>\n",
              "      <td>Vêtements</td>\n",
              "      <td>2296.870310</td>\n",
              "    </tr>\n",
              "    <tr>\n",
              "      <th>4</th>\n",
              "      <td>19.821771</td>\n",
              "      <td>265</td>\n",
              "      <td>4510.113305</td>\n",
              "      <td>Beauté</td>\n",
              "      <td>2340.458661</td>\n",
              "    </tr>\n",
              "  </tbody>\n",
              "</table>\n",
              "</div>\n",
              "    <div class=\"colab-df-buttons\">\n",
              "\n",
              "  <div class=\"colab-df-container\">\n",
              "    <button class=\"colab-df-convert\" onclick=\"convertToInteractive('df-a42ca058-9625-445b-839e-803905d93bf0')\"\n",
              "            title=\"Convert this dataframe to an interactive table.\"\n",
              "            style=\"display:none;\">\n",
              "\n",
              "  <svg xmlns=\"http://www.w3.org/2000/svg\" height=\"24px\" viewBox=\"0 -960 960 960\">\n",
              "    <path d=\"M120-120v-720h720v720H120Zm60-500h600v-160H180v160Zm220 220h160v-160H400v160Zm0 220h160v-160H400v160ZM180-400h160v-160H180v160Zm440 0h160v-160H620v160ZM180-180h160v-160H180v160Zm440 0h160v-160H620v160Z\"/>\n",
              "  </svg>\n",
              "    </button>\n",
              "\n",
              "  <style>\n",
              "    .colab-df-container {\n",
              "      display:flex;\n",
              "      gap: 12px;\n",
              "    }\n",
              "\n",
              "    .colab-df-convert {\n",
              "      background-color: #E8F0FE;\n",
              "      border: none;\n",
              "      border-radius: 50%;\n",
              "      cursor: pointer;\n",
              "      display: none;\n",
              "      fill: #1967D2;\n",
              "      height: 32px;\n",
              "      padding: 0 0 0 0;\n",
              "      width: 32px;\n",
              "    }\n",
              "\n",
              "    .colab-df-convert:hover {\n",
              "      background-color: #E2EBFA;\n",
              "      box-shadow: 0px 1px 2px rgba(60, 64, 67, 0.3), 0px 1px 3px 1px rgba(60, 64, 67, 0.15);\n",
              "      fill: #174EA6;\n",
              "    }\n",
              "\n",
              "    .colab-df-buttons div {\n",
              "      margin-bottom: 4px;\n",
              "    }\n",
              "\n",
              "    [theme=dark] .colab-df-convert {\n",
              "      background-color: #3B4455;\n",
              "      fill: #D2E3FC;\n",
              "    }\n",
              "\n",
              "    [theme=dark] .colab-df-convert:hover {\n",
              "      background-color: #434B5C;\n",
              "      box-shadow: 0px 1px 3px 1px rgba(0, 0, 0, 0.15);\n",
              "      filter: drop-shadow(0px 1px 2px rgba(0, 0, 0, 0.3));\n",
              "      fill: #FFFFFF;\n",
              "    }\n",
              "  </style>\n",
              "\n",
              "    <script>\n",
              "      const buttonEl =\n",
              "        document.querySelector('#df-a42ca058-9625-445b-839e-803905d93bf0 button.colab-df-convert');\n",
              "      buttonEl.style.display =\n",
              "        google.colab.kernel.accessAllowed ? 'block' : 'none';\n",
              "\n",
              "      async function convertToInteractive(key) {\n",
              "        const element = document.querySelector('#df-a42ca058-9625-445b-839e-803905d93bf0');\n",
              "        const dataTable =\n",
              "          await google.colab.kernel.invokeFunction('convertToInteractive',\n",
              "                                                    [key], {});\n",
              "        if (!dataTable) return;\n",
              "\n",
              "        const docLinkHtml = 'Like what you see? Visit the ' +\n",
              "          '<a target=\"_blank\" href=https://colab.research.google.com/notebooks/data_table.ipynb>data table notebook</a>'\n",
              "          + ' to learn more about interactive tables.';\n",
              "        element.innerHTML = '';\n",
              "        dataTable['output_type'] = 'display_data';\n",
              "        await google.colab.output.renderOutput(dataTable, element);\n",
              "        const docLink = document.createElement('div');\n",
              "        docLink.innerHTML = docLinkHtml;\n",
              "        element.appendChild(docLink);\n",
              "      }\n",
              "    </script>\n",
              "  </div>\n",
              "\n",
              "\n",
              "<div id=\"df-d48a0263-af3e-43f4-80e5-648cde8aa0b7\">\n",
              "  <button class=\"colab-df-quickchart\" onclick=\"quickchart('df-d48a0263-af3e-43f4-80e5-648cde8aa0b7')\"\n",
              "            title=\"Suggest charts\"\n",
              "            style=\"display:none;\">\n",
              "\n",
              "<svg xmlns=\"http://www.w3.org/2000/svg\" height=\"24px\"viewBox=\"0 0 24 24\"\n",
              "     width=\"24px\">\n",
              "    <g>\n",
              "        <path d=\"M19 3H5c-1.1 0-2 .9-2 2v14c0 1.1.9 2 2 2h14c1.1 0 2-.9 2-2V5c0-1.1-.9-2-2-2zM9 17H7v-7h2v7zm4 0h-2V7h2v10zm4 0h-2v-4h2v4z\"/>\n",
              "    </g>\n",
              "</svg>\n",
              "  </button>\n",
              "\n",
              "<style>\n",
              "  .colab-df-quickchart {\n",
              "      --bg-color: #E8F0FE;\n",
              "      --fill-color: #1967D2;\n",
              "      --hover-bg-color: #E2EBFA;\n",
              "      --hover-fill-color: #174EA6;\n",
              "      --disabled-fill-color: #AAA;\n",
              "      --disabled-bg-color: #DDD;\n",
              "  }\n",
              "\n",
              "  [theme=dark] .colab-df-quickchart {\n",
              "      --bg-color: #3B4455;\n",
              "      --fill-color: #D2E3FC;\n",
              "      --hover-bg-color: #434B5C;\n",
              "      --hover-fill-color: #FFFFFF;\n",
              "      --disabled-bg-color: #3B4455;\n",
              "      --disabled-fill-color: #666;\n",
              "  }\n",
              "\n",
              "  .colab-df-quickchart {\n",
              "    background-color: var(--bg-color);\n",
              "    border: none;\n",
              "    border-radius: 50%;\n",
              "    cursor: pointer;\n",
              "    display: none;\n",
              "    fill: var(--fill-color);\n",
              "    height: 32px;\n",
              "    padding: 0;\n",
              "    width: 32px;\n",
              "  }\n",
              "\n",
              "  .colab-df-quickchart:hover {\n",
              "    background-color: var(--hover-bg-color);\n",
              "    box-shadow: 0 1px 2px rgba(60, 64, 67, 0.3), 0 1px 3px 1px rgba(60, 64, 67, 0.15);\n",
              "    fill: var(--button-hover-fill-color);\n",
              "  }\n",
              "\n",
              "  .colab-df-quickchart-complete:disabled,\n",
              "  .colab-df-quickchart-complete:disabled:hover {\n",
              "    background-color: var(--disabled-bg-color);\n",
              "    fill: var(--disabled-fill-color);\n",
              "    box-shadow: none;\n",
              "  }\n",
              "\n",
              "  .colab-df-spinner {\n",
              "    border: 2px solid var(--fill-color);\n",
              "    border-color: transparent;\n",
              "    border-bottom-color: var(--fill-color);\n",
              "    animation:\n",
              "      spin 1s steps(1) infinite;\n",
              "  }\n",
              "\n",
              "  @keyframes spin {\n",
              "    0% {\n",
              "      border-color: transparent;\n",
              "      border-bottom-color: var(--fill-color);\n",
              "      border-left-color: var(--fill-color);\n",
              "    }\n",
              "    20% {\n",
              "      border-color: transparent;\n",
              "      border-left-color: var(--fill-color);\n",
              "      border-top-color: var(--fill-color);\n",
              "    }\n",
              "    30% {\n",
              "      border-color: transparent;\n",
              "      border-left-color: var(--fill-color);\n",
              "      border-top-color: var(--fill-color);\n",
              "      border-right-color: var(--fill-color);\n",
              "    }\n",
              "    40% {\n",
              "      border-color: transparent;\n",
              "      border-right-color: var(--fill-color);\n",
              "      border-top-color: var(--fill-color);\n",
              "    }\n",
              "    60% {\n",
              "      border-color: transparent;\n",
              "      border-right-color: var(--fill-color);\n",
              "    }\n",
              "    80% {\n",
              "      border-color: transparent;\n",
              "      border-right-color: var(--fill-color);\n",
              "      border-bottom-color: var(--fill-color);\n",
              "    }\n",
              "    90% {\n",
              "      border-color: transparent;\n",
              "      border-bottom-color: var(--fill-color);\n",
              "    }\n",
              "  }\n",
              "</style>\n",
              "\n",
              "  <script>\n",
              "    async function quickchart(key) {\n",
              "      const quickchartButtonEl =\n",
              "        document.querySelector('#' + key + ' button');\n",
              "      quickchartButtonEl.disabled = true;  // To prevent multiple clicks.\n",
              "      quickchartButtonEl.classList.add('colab-df-spinner');\n",
              "      try {\n",
              "        const charts = await google.colab.kernel.invokeFunction(\n",
              "            'suggestCharts', [key], {});\n",
              "      } catch (error) {\n",
              "        console.error('Error during call to suggestCharts:', error);\n",
              "      }\n",
              "      quickchartButtonEl.classList.remove('colab-df-spinner');\n",
              "      quickchartButtonEl.classList.add('colab-df-quickchart-complete');\n",
              "    }\n",
              "    (() => {\n",
              "      let quickchartButtonEl =\n",
              "        document.querySelector('#df-d48a0263-af3e-43f4-80e5-648cde8aa0b7 button');\n",
              "      quickchartButtonEl.style.display =\n",
              "        google.colab.kernel.accessAllowed ? 'block' : 'none';\n",
              "    })();\n",
              "  </script>\n",
              "</div>\n",
              "\n",
              "    </div>\n",
              "  </div>\n"
            ],
            "application/vnd.google.colaboratory.intrinsic+json": {
              "type": "dataframe",
              "variable_name": "df",
              "summary": "{\n  \"name\": \"df\",\n  \"rows\": 1000,\n  \"fields\": [\n    {\n      \"column\": \"Prix\",\n      \"properties\": {\n        \"dtype\": \"number\",\n        \"std\": 27.75304938501116,\n        \"min\": 5.440042185437272,\n        \"max\": 99.9731789621824,\n        \"num_unique_values\": 1000,\n        \"samples\": [\n          41.18463137994704,\n          82.57694674979983,\n          48.954579638612614\n        ],\n        \"semantic_type\": \"\",\n        \"description\": \"\"\n      }\n    },\n    {\n      \"column\": \"Visiteurs\",\n      \"properties\": {\n        \"dtype\": \"number\",\n        \"std\": 277,\n        \"min\": 50,\n        \"max\": 999,\n        \"num_unique_values\": 610,\n        \"samples\": [\n          943,\n          385,\n          575\n        ],\n        \"semantic_type\": \"\",\n        \"description\": \"\"\n      }\n    },\n    {\n      \"column\": \"Budget_Publicit\\u00e9\",\n      \"properties\": {\n        \"dtype\": \"number\",\n        \"std\": 1411.3555519659499,\n        \"min\": 107.66901543821723,\n        \"max\": 4991.9028058254535,\n        \"num_unique_values\": 1000,\n        \"samples\": [\n          1270.1014357695424,\n          1114.2636343482914,\n          137.5537599812041\n        ],\n        \"semantic_type\": \"\",\n        \"description\": \"\"\n      }\n    },\n    {\n      \"column\": \"Cat\\u00e9gorie\",\n      \"properties\": {\n        \"dtype\": \"category\",\n        \"num_unique_values\": 4,\n        \"samples\": [\n          \"Maison\",\n          \"Beaut\\u00e9\",\n          \"\\u00c9lectronique\"\n        ],\n        \"semantic_type\": \"\",\n        \"description\": \"\"\n      }\n    },\n    {\n      \"column\": \"Ventes\",\n      \"properties\": {\n        \"dtype\": \"number\",\n        \"std\": 715.618789019939,\n        \"min\": 29.907915092333056,\n        \"max\": 2874.8116756913078,\n        \"num_unique_values\": 1000,\n        \"samples\": [\n          867.9838341706599,\n          588.6656005034446,\n          376.0690439004276\n        ],\n        \"semantic_type\": \"\",\n        \"description\": \"\"\n      }\n    }\n  ]\n}"
            }
          },
          "metadata": {},
          "execution_count": 2
        }
      ]
    },
    {
      "cell_type": "markdown",
      "source": [
        "### Variable quantitative"
      ],
      "metadata": {
        "id": "rcuBytfmxW8y"
      }
    },
    {
      "cell_type": "markdown",
      "source": [
        "On peut utiliser un histogramme pour visualiser une variable quantitiative."
      ],
      "metadata": {
        "id": "3tdcr51g3Pjh"
      }
    },
    {
      "cell_type": "code",
      "source": [
        "# Histogramme des prix\n",
        "plt.figure(figsize=(10, 6))\n",
        "plt.hist(df['Prix'], bins=20, color='blue', alpha=0.7, edgecolor='black')\n",
        "plt.xlabel('Prix')\n",
        "plt.ylabel('Fréquence')\n",
        "plt.title('Distribution des Prix')\n",
        "plt.grid(True)\n",
        "plt.show()"
      ],
      "metadata": {
        "colab": {
          "base_uri": "https://localhost:8080/",
          "height": 564
        },
        "id": "aewiSM1x3UoY",
        "outputId": "1ef22a3e-265f-4575-d8dd-3928f8726a48"
      },
      "execution_count": null,
      "outputs": [
        {
          "output_type": "display_data",
          "data": {
            "text/plain": [
              "<Figure size 1000x600 with 1 Axes>"
            ],
            "image/png": "[encoded data removed]"
          },
          "metadata": {}
        }
      ]
    },
    {
      "cell_type": "markdown",
      "source": [
        "On peut également utiliser une distribution pour visualiser la dispersion d'une variable quantitative."
      ],
      "metadata": {
        "id": "zo40fbfU36LJ"
      }
    },
    {
      "cell_type": "code",
      "source": [
        "# Densité des prix\n",
        "plt.figure(figsize=(10, 6))\n",
        "sns.kdeplot(data=df, x='Prix', fill=True, alpha=0.5)\n",
        "plt.title('Densité des Prix')\n",
        "plt.show()"
      ],
      "metadata": {
        "colab": {
          "base_uri": "https://localhost:8080/",
          "height": 564
        },
        "id": "l7Fu0l9xw17g",
        "outputId": "6d06bcd5-e3f1-48d4-e73d-61e0a4963341"
      },
      "execution_count": null,
      "outputs": [
        {
          "output_type": "display_data",
          "data": {
            "text/plain": [
              "<Figure size 1000x600 with 1 Axes>"
            ],
            "image/png": "[encoded data removed]"
          },
          "metadata": {}
        }
      ]
    },
    {
      "cell_type": "markdown",
      "source": [
        "### Variable qualitative (catégorielle)\n",
        "\n",
        "On utiliser less barres pour représenter des variables qualitative ; il s'agit de représenter le nombre d'occurrences de chaque modalité."
      ],
      "metadata": {
        "id": "niJAwfUh4Erl"
      }
    },
    {
      "cell_type": "code",
      "source": [
        "# Visualisation de la variable catégorielle\n",
        "plt.figure(figsize=(8, 5))\n",
        "sns.countplot(x='Catégorie', data=df, hue='Catégorie', palette='pastel')\n",
        "plt.xlabel('Catégorie')\n",
        "plt.ylabel(\"Nombre d'observations\")\n",
        "plt.title('Répartition des Catégories')\n",
        "plt.show()"
      ],
      "metadata": {
        "colab": {
          "base_uri": "https://localhost:8080/",
          "height": 490
        },
        "id": "X0N821Kw4XLQ",
        "outputId": "58be36a8-ef6f-4fb8-c8b8-ee111db3ef9b"
      },
      "execution_count": null,
      "outputs": [
        {
          "output_type": "display_data",
          "data": {
            "text/plain": [
              "<Figure size 800x500 with 1 Axes>"
            ],
            "image/png": "[encoded data removed]"
          },
          "metadata": {}
        }
      ]
    },
    {
      "cell_type": "markdown",
      "source": [
        "### Variable quantitative vs variable qualitative\n",
        "Le nuage de points est une représentation adapatée pour visualiser la corrélation entre deux variables numériques."
      ],
      "metadata": {
        "id": "zr-2ZT_OvxWU"
      }
    },
    {
      "cell_type": "code",
      "source": [
        "# Nuage de points entre Budget Publicitaire et Ventes\n",
        "plt.figure(figsize=(8, 5))\n",
        "plt.scatter(df['Budget_Publicité'], df['Ventes'], alpha=0.5, color='green')\n",
        "plt.xlabel('Budget Publicitaire')\n",
        "plt.ylabel('Ventes')\n",
        "plt.title('Relation entre Budget Publicitaire et Ventes')\n",
        "plt.show()"
      ],
      "metadata": {
        "colab": {
          "base_uri": "https://localhost:8080/",
          "height": 487
        },
        "id": "FeBrLfravv9s",
        "outputId": "2e548bf6-965b-4e53-ad9d-b8cf493b08fe"
      },
      "execution_count": null,
      "outputs": [
        {
          "output_type": "display_data",
          "data": {
            "text/plain": [
              "<Figure size 800x500 with 1 Axes>"
            ],
            "image/png": "[encoded data removed]"
          },
          "metadata": {}
        }
      ]
    },
    {
      "cell_type": "markdown",
      "source": [
        "### Variable quantitative vs. variable qualitative\n",
        "\n",
        "IOn peut utiliser les boîtes à moustache (boxplots) pour visualiser une variable numérique en fonction d'une variable catégorielle.\n"
      ],
      "metadata": {
        "id": "ql4t5EvPwbOa"
      }
    },
    {
      "cell_type": "code",
      "source": [
        "# Boxplot du prix par catégorie de produit\n",
        "plt.figure(figsize=(10, 6))\n",
        "sns.boxplot(x='Catégorie', y='Prix', data=df, hue='Catégorie')\n",
        "plt.xlabel('Catégorie de Produit')\n",
        "plt.title('Distribution des Prix par Catégorie')\n",
        "plt.show()\n"
      ],
      "metadata": {
        "colab": {
          "base_uri": "https://localhost:8080/",
          "height": 567
        },
        "id": "nwCoLkiMwn9P",
        "outputId": "7ac5d828-70fc-4ec8-f795-afb0f04a1488"
      },
      "execution_count": null,
      "outputs": [
        {
          "output_type": "display_data",
          "data": {
            "text/plain": [
              "<Figure size 1000x600 with 1 Axes>"
            ],
            "image/png": "[encoded data removed]"
          },
          "metadata": {}
        }
      ]
    }
  ]
}