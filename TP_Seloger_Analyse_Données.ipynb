{
  "cells": [
    {
      "cell_type": "markdown",
      "metadata": {
        "id": "view-in-github",
        "colab_type": "text"
      },
      "source": [
        "<a href=\"https://colab.research.google.com/github/RMoulla/IYT/blob/main/TP_Seloger_Analyse_Donn%C3%A9es.ipynb\" target=\"_parent\"><img src=\"https://colab.research.google.com/assets/colab-badge.svg\" alt=\"Open In Colab\"/></a>"
      ]
    },
    {
      "cell_type": "markdown",
      "metadata": {
        "id": "rRnYnXA-md-R"
      },
      "source": [
        "# Travaux pratiques : analyse des prix des biens immobiliers.\n",
        "\n",
        "Étude d'un jeu de données comportant des informations immobilières provenant du site seloger.com.\n",
        "\n",
        "Dans un premier temps, nous nous proposons de faire une étude exploratoire pour se familiariser avec la donnée et comprendre comment les variables se comportent. Cette étape permettra egalement d'identifier d'eventuelles anomalies et de nettoyer la donnée si nécessaire.\n",
        "\n",
        "Dans un second temps, nous nous attacherons à l'explicabilité des données, c'est à dire répondre à la question \"Quelles sont les variables les plus importantes pour expliquer le prix d'un bien ?\""
      ]
    },
    {
      "cell_type": "code",
      "execution_count": null,
      "metadata": {
        "id": "Y22z9Mswmd-S"
      },
      "outputs": [],
      "source": [
        "# Librairie pour lire des fichiers de données tabulaires\n",
        "import pandas as pd"
      ]
    },
    {
      "cell_type": "code",
      "execution_count": null,
      "metadata": {
        "id": "BXTUj-tKmd-T"
      },
      "outputs": [],
      "source": [
        "file_path = 'selogerdata.csv'\n",
        "dataset = pd.read_csv(file_path)"
      ]
    },
    {
      "cell_type": "code",
      "execution_count": null,
      "metadata": {
        "id": "nXBkUsSWmd-U",
        "outputId": "6af8c387-ed44-4f45-fbdb-eddb37b640c8",
        "colab": {
          "base_uri": "https://localhost:8080/"
        }
      },
      "outputs": [
        {
          "output_type": "execute_result",
          "data": {
            "text/plain": [
              "(8899, 24)"
            ]
          },
          "metadata": {},
          "execution_count": 3
        }
      ],
      "source": [
        "dataset.shape"
      ]
    },
    {
      "cell_type": "markdown",
      "metadata": {
        "id": "kvdpDJxGmd-U"
      },
      "source": [
        "Le jeu de données contient 8899 lignes et 24 colonnes."
      ]
    },
    {
      "cell_type": "code",
      "execution_count": null,
      "metadata": {
        "id": "6igooBlxmd-V",
        "outputId": "22f73bfa-67f7-4a1f-dc85-95f882e00398",
        "colab": {
          "base_uri": "https://localhost:8080/",
          "height": 338
        }
      },
      "outputs": [
        {
          "output_type": "execute_result",
          "data": {
            "text/plain": [
              "   number  codeinsee  codepostal     cp  etage  idagence  idannonce  idtiers  \\\n",
              "0      11     750116       75016  75016      0    178817  144013899   227883   \n",
              "1       8     750110       75010  75010      0     12089  149750677     3765   \n",
              "2       6     750118       75018  75018      0    115811  138648733   108873   \n",
              "3      16     750110       75010  75010      0     12089  149750679     3765   \n",
              "4       4     750116       75016  75016      0     97567  147153067   145098   \n",
              "\n",
              "   idtypechauffage  idtypecommerce  ... nb_photos nb_pieces  position    prix  \\\n",
              "0                0               0  ...        13         3        11   59000   \n",
              "1                0               0  ...         7         1         8   77500   \n",
              "2                0               0  ...         8         2         6   94000   \n",
              "3                0               0  ...         4         1        16   96000   \n",
              "4                0               0  ...         5         2         4  100000   \n",
              "\n",
              "   si_balcon  si_sdEau  si_sdbain  surface   typedebien         ville  \n",
              "0          1         0          0    69.00  Appartement  Paris 16√®me  \n",
              "1          0         0          0     8.49  Appartement  Paris 10√®me  \n",
              "2          0         0          0    37.00  Appartement  Paris 18√®me  \n",
              "3          0         0          0    10.26  Appartement  Paris 10√®me  \n",
              "4          0         0          0    14.93  Appartement  Paris 16√®me  \n",
              "\n",
              "[5 rows x 24 columns]"
            ],
            "text/html": [
              "\n",
              "  <div id=\"df-2b36567e-f892-49d6-b580-8ac76d810344\" class=\"colab-df-container\">\n",
              "    <div>\n",
              "<style scoped>\n",
              "    .dataframe tbody tr th:only-of-type {\n",
              "        vertical-align: middle;\n",
              "    }\n",
              "\n",
              "    .dataframe tbody tr th {\n",
              "        vertical-align: top;\n",
              "    }\n",
              "\n",
              "    .dataframe thead th {\n",
              "        text-align: right;\n",
              "    }\n",
              "</style>\n",
              "<table border=\"1\" class=\"dataframe\">\n",
              "  <thead>\n",
              "    <tr style=\"text-align: right;\">\n",
              "      <th></th>\n",
              "      <th>number</th>\n",
              "      <th>codeinsee</th>\n",
              "      <th>codepostal</th>\n",
              "      <th>cp</th>\n",
              "      <th>etage</th>\n",
              "      <th>idagence</th>\n",
              "      <th>idannonce</th>\n",
              "      <th>idtiers</th>\n",
              "      <th>idtypechauffage</th>\n",
              "      <th>idtypecommerce</th>\n",
              "      <th>...</th>\n",
              "      <th>nb_photos</th>\n",
              "      <th>nb_pieces</th>\n",
              "      <th>position</th>\n",
              "      <th>prix</th>\n",
              "      <th>si_balcon</th>\n",
              "      <th>si_sdEau</th>\n",
              "      <th>si_sdbain</th>\n",
              "      <th>surface</th>\n",
              "      <th>typedebien</th>\n",
              "      <th>ville</th>\n",
              "    </tr>\n",
              "  </thead>\n",
              "  <tbody>\n",
              "    <tr>\n",
              "      <th>0</th>\n",
              "      <td>11</td>\n",
              "      <td>750116</td>\n",
              "      <td>75016</td>\n",
              "      <td>75016</td>\n",
              "      <td>0</td>\n",
              "      <td>178817</td>\n",
              "      <td>144013899</td>\n",
              "      <td>227883</td>\n",
              "      <td>0</td>\n",
              "      <td>0</td>\n",
              "      <td>...</td>\n",
              "      <td>13</td>\n",
              "      <td>3</td>\n",
              "      <td>11</td>\n",
              "      <td>59000</td>\n",
              "      <td>1</td>\n",
              "      <td>0</td>\n",
              "      <td>0</td>\n",
              "      <td>69.00</td>\n",
              "      <td>Appartement</td>\n",
              "      <td>Paris 16√®me</td>\n",
              "    </tr>\n",
              "    <tr>\n",
              "      <th>1</th>\n",
              "      <td>8</td>\n",
              "      <td>750110</td>\n",
              "      <td>75010</td>\n",
              "      <td>75010</td>\n",
              "      <td>0</td>\n",
              "      <td>12089</td>\n",
              "      <td>149750677</td>\n",
              "      <td>3765</td>\n",
              "      <td>0</td>\n",
              "      <td>0</td>\n",
              "      <td>...</td>\n",
              "      <td>7</td>\n",
              "      <td>1</td>\n",
              "      <td>8</td>\n",
              "      <td>77500</td>\n",
              "      <td>0</td>\n",
              "      <td>0</td>\n",
              "      <td>0</td>\n",
              "      <td>8.49</td>\n",
              "      <td>Appartement</td>\n",
              "      <td>Paris 10√®me</td>\n",
              "    </tr>\n",
              "    <tr>\n",
              "      <th>2</th>\n",
              "      <td>6</td>\n",
              "      <td>750118</td>\n",
              "      <td>75018</td>\n",
              "      <td>75018</td>\n",
              "      <td>0</td>\n",
              "      <td>115811</td>\n",
              "      <td>138648733</td>\n",
              "      <td>108873</td>\n",
              "      <td>0</td>\n",
              "      <td>0</td>\n",
              "      <td>...</td>\n",
              "      <td>8</td>\n",
              "      <td>2</td>\n",
              "      <td>6</td>\n",
              "      <td>94000</td>\n",
              "      <td>0</td>\n",
              "      <td>0</td>\n",
              "      <td>0</td>\n",
              "      <td>37.00</td>\n",
              "      <td>Appartement</td>\n",
              "      <td>Paris 18√®me</td>\n",
              "    </tr>\n",
              "    <tr>\n",
              "      <th>3</th>\n",
              "      <td>16</td>\n",
              "      <td>750110</td>\n",
              "      <td>75010</td>\n",
              "      <td>75010</td>\n",
              "      <td>0</td>\n",
              "      <td>12089</td>\n",
              "      <td>149750679</td>\n",
              "      <td>3765</td>\n",
              "      <td>0</td>\n",
              "      <td>0</td>\n",
              "      <td>...</td>\n",
              "      <td>4</td>\n",
              "      <td>1</td>\n",
              "      <td>16</td>\n",
              "      <td>96000</td>\n",
              "      <td>0</td>\n",
              "      <td>0</td>\n",
              "      <td>0</td>\n",
              "      <td>10.26</td>\n",
              "      <td>Appartement</td>\n",
              "      <td>Paris 10√®me</td>\n",
              "    </tr>\n",
              "    <tr>\n",
              "      <th>4</th>\n",
              "      <td>4</td>\n",
              "      <td>750116</td>\n",
              "      <td>75016</td>\n",
              "      <td>75016</td>\n",
              "      <td>0</td>\n",
              "      <td>97567</td>\n",
              "      <td>147153067</td>\n",
              "      <td>145098</td>\n",
              "      <td>0</td>\n",
              "      <td>0</td>\n",
              "      <td>...</td>\n",
              "      <td>5</td>\n",
              "      <td>2</td>\n",
              "      <td>4</td>\n",
              "      <td>100000</td>\n",
              "      <td>0</td>\n",
              "      <td>0</td>\n",
              "      <td>0</td>\n",
              "      <td>14.93</td>\n",
              "      <td>Appartement</td>\n",
              "      <td>Paris 16√®me</td>\n",
              "    </tr>\n",
              "  </tbody>\n",
              "</table>\n",
              "<p>5 rows × 24 columns</p>\n",
              "</div>\n",
              "    <div class=\"colab-df-buttons\">\n",
              "\n",
              "  <div class=\"colab-df-container\">\n",
              "    <button class=\"colab-df-convert\" onclick=\"convertToInteractive('df-2b36567e-f892-49d6-b580-8ac76d810344')\"\n",
              "            title=\"Convert this dataframe to an interactive table.\"\n",
              "            style=\"display:none;\">\n",
              "\n",
              "  <svg xmlns=\"http://www.w3.org/2000/svg\" height=\"24px\" viewBox=\"0 -960 960 960\">\n",
              "    <path d=\"M120-120v-720h720v720H120Zm60-500h600v-160H180v160Zm220 220h160v-160H400v160Zm0 220h160v-160H400v160ZM180-400h160v-160H180v160Zm440 0h160v-160H620v160ZM180-180h160v-160H180v160Zm440 0h160v-160H620v160Z\"/>\n",
              "  </svg>\n",
              "    </button>\n",
              "\n",
              "  <style>\n",
              "    .colab-df-container {\n",
              "      display:flex;\n",
              "      gap: 12px;\n",
              "    }\n",
              "\n",
              "    .colab-df-convert {\n",
              "      background-color: #E8F0FE;\n",
              "      border: none;\n",
              "      border-radius: 50%;\n",
              "      cursor: pointer;\n",
              "      display: none;\n",
              "      fill: #1967D2;\n",
              "      height: 32px;\n",
              "      padding: 0 0 0 0;\n",
              "      width: 32px;\n",
              "    }\n",
              "\n",
              "    .colab-df-convert:hover {\n",
              "      background-color: #E2EBFA;\n",
              "      box-shadow: 0px 1px 2px rgba(60, 64, 67, 0.3), 0px 1px 3px 1px rgba(60, 64, 67, 0.15);\n",
              "      fill: #174EA6;\n",
              "    }\n",
              "\n",
              "    .colab-df-buttons div {\n",
              "      margin-bottom: 4px;\n",
              "    }\n",
              "\n",
              "    [theme=dark] .colab-df-convert {\n",
              "      background-color: #3B4455;\n",
              "      fill: #D2E3FC;\n",
              "    }\n",
              "\n",
              "    [theme=dark] .colab-df-convert:hover {\n",
              "      background-color: #434B5C;\n",
              "      box-shadow: 0px 1px 3px 1px rgba(0, 0, 0, 0.15);\n",
              "      filter: drop-shadow(0px 1px 2px rgba(0, 0, 0, 0.3));\n",
              "      fill: #FFFFFF;\n",
              "    }\n",
              "  </style>\n",
              "\n",
              "    <script>\n",
              "      const buttonEl =\n",
              "        document.querySelector('#df-2b36567e-f892-49d6-b580-8ac76d810344 button.colab-df-convert');\n",
              "      buttonEl.style.display =\n",
              "        google.colab.kernel.accessAllowed ? 'block' : 'none';\n",
              "\n",
              "      async function convertToInteractive(key) {\n",
              "        const element = document.querySelector('#df-2b36567e-f892-49d6-b580-8ac76d810344');\n",
              "        const dataTable =\n",
              "          await google.colab.kernel.invokeFunction('convertToInteractive',\n",
              "                                                    [key], {});\n",
              "        if (!dataTable) return;\n",
              "\n",
              "        const docLinkHtml = 'Like what you see? Visit the ' +\n",
              "          '<a target=\"_blank\" href=https://colab.research.google.com/notebooks/data_table.ipynb>data table notebook</a>'\n",
              "          + ' to learn more about interactive tables.';\n",
              "        element.innerHTML = '';\n",
              "        dataTable['output_type'] = 'display_data';\n",
              "        await google.colab.output.renderOutput(dataTable, element);\n",
              "        const docLink = document.createElement('div');\n",
              "        docLink.innerHTML = docLinkHtml;\n",
              "        element.appendChild(docLink);\n",
              "      }\n",
              "    </script>\n",
              "  </div>\n",
              "\n",
              "\n",
              "<div id=\"df-9f2d6da1-5738-40e2-b9f7-254c8e5c7885\">\n",
              "  <button class=\"colab-df-quickchart\" onclick=\"quickchart('df-9f2d6da1-5738-40e2-b9f7-254c8e5c7885')\"\n",
              "            title=\"Suggest charts\"\n",
              "            style=\"display:none;\">\n",
              "\n",
              "<svg xmlns=\"http://www.w3.org/2000/svg\" height=\"24px\"viewBox=\"0 0 24 24\"\n",
              "     width=\"24px\">\n",
              "    <g>\n",
              "        <path d=\"M19 3H5c-1.1 0-2 .9-2 2v14c0 1.1.9 2 2 2h14c1.1 0 2-.9 2-2V5c0-1.1-.9-2-2-2zM9 17H7v-7h2v7zm4 0h-2V7h2v10zm4 0h-2v-4h2v4z\"/>\n",
              "    </g>\n",
              "</svg>\n",
              "  </button>\n",
              "\n",
              "<style>\n",
              "  .colab-df-quickchart {\n",
              "      --bg-color: #E8F0FE;\n",
              "      --fill-color: #1967D2;\n",
              "      --hover-bg-color: #E2EBFA;\n",
              "      --hover-fill-color: #174EA6;\n",
              "      --disabled-fill-color: #AAA;\n",
              "      --disabled-bg-color: #DDD;\n",
              "  }\n",
              "\n",
              "  [theme=dark] .colab-df-quickchart {\n",
              "      --bg-color: #3B4455;\n",
              "      --fill-color: #D2E3FC;\n",
              "      --hover-bg-color: #434B5C;\n",
              "      --hover-fill-color: #FFFFFF;\n",
              "      --disabled-bg-color: #3B4455;\n",
              "      --disabled-fill-color: #666;\n",
              "  }\n",
              "\n",
              "  .colab-df-quickchart {\n",
              "    background-color: var(--bg-color);\n",
              "    border: none;\n",
              "    border-radius: 50%;\n",
              "    cursor: pointer;\n",
              "    display: none;\n",
              "    fill: var(--fill-color);\n",
              "    height: 32px;\n",
              "    padding: 0;\n",
              "    width: 32px;\n",
              "  }\n",
              "\n",
              "  .colab-df-quickchart:hover {\n",
              "    background-color: var(--hover-bg-color);\n",
              "    box-shadow: 0 1px 2px rgba(60, 64, 67, 0.3), 0 1px 3px 1px rgba(60, 64, 67, 0.15);\n",
              "    fill: var(--button-hover-fill-color);\n",
              "  }\n",
              "\n",
              "  .colab-df-quickchart-complete:disabled,\n",
              "  .colab-df-quickchart-complete:disabled:hover {\n",
              "    background-color: var(--disabled-bg-color);\n",
              "    fill: var(--disabled-fill-color);\n",
              "    box-shadow: none;\n",
              "  }\n",
              "\n",
              "  .colab-df-spinner {\n",
              "    border: 2px solid var(--fill-color);\n",
              "    border-color: transparent;\n",
              "    border-bottom-color: var(--fill-color);\n",
              "    animation:\n",
              "      spin 1s steps(1) infinite;\n",
              "  }\n",
              "\n",
              "  @keyframes spin {\n",
              "    0% {\n",
              "      border-color: transparent;\n",
              "      border-bottom-color: var(--fill-color);\n",
              "      border-left-color: var(--fill-color);\n",
              "    }\n",
              "    20% {\n",
              "      border-color: transparent;\n",
              "      border-left-color: var(--fill-color);\n",
              "      border-top-color: var(--fill-color);\n",
              "    }\n",
              "    30% {\n",
              "      border-color: transparent;\n",
              "      border-left-color: var(--fill-color);\n",
              "      border-top-color: var(--fill-color);\n",
              "      border-right-color: var(--fill-color);\n",
              "    }\n",
              "    40% {\n",
              "      border-color: transparent;\n",
              "      border-right-color: var(--fill-color);\n",
              "      border-top-color: var(--fill-color);\n",
              "    }\n",
              "    60% {\n",
              "      border-color: transparent;\n",
              "      border-right-color: var(--fill-color);\n",
              "    }\n",
              "    80% {\n",
              "      border-color: transparent;\n",
              "      border-right-color: var(--fill-color);\n",
              "      border-bottom-color: var(--fill-color);\n",
              "    }\n",
              "    90% {\n",
              "      border-color: transparent;\n",
              "      border-bottom-color: var(--fill-color);\n",
              "    }\n",
              "  }\n",
              "</style>\n",
              "\n",
              "  <script>\n",
              "    async function quickchart(key) {\n",
              "      const quickchartButtonEl =\n",
              "        document.querySelector('#' + key + ' button');\n",
              "      quickchartButtonEl.disabled = true;  // To prevent multiple clicks.\n",
              "      quickchartButtonEl.classList.add('colab-df-spinner');\n",
              "      try {\n",
              "        const charts = await google.colab.kernel.invokeFunction(\n",
              "            'suggestCharts', [key], {});\n",
              "      } catch (error) {\n",
              "        console.error('Error during call to suggestCharts:', error);\n",
              "      }\n",
              "      quickchartButtonEl.classList.remove('colab-df-spinner');\n",
              "      quickchartButtonEl.classList.add('colab-df-quickchart-complete');\n",
              "    }\n",
              "    (() => {\n",
              "      let quickchartButtonEl =\n",
              "        document.querySelector('#df-9f2d6da1-5738-40e2-b9f7-254c8e5c7885 button');\n",
              "      quickchartButtonEl.style.display =\n",
              "        google.colab.kernel.accessAllowed ? 'block' : 'none';\n",
              "    })();\n",
              "  </script>\n",
              "</div>\n",
              "\n",
              "    </div>\n",
              "  </div>\n"
            ],
            "application/vnd.google.colaboratory.intrinsic+json": {
              "type": "dataframe",
              "variable_name": "dataset"
            }
          },
          "metadata": {},
          "execution_count": 4
        }
      ],
      "source": [
        "# Visualiser les 5 premières lignes du dataset\n",
        "dataset.head()"
      ]
    },
    {
      "cell_type": "markdown",
      "source": [
        "## Nettoyage des données"
      ],
      "metadata": {
        "id": "u4Iped-m3okJ"
      }
    },
    {
      "cell_type": "markdown",
      "metadata": {
        "id": "ZnJFbeYwmd-V"
      },
      "source": [
        "On peut d'ores et déjà remarquer que les colonnes `idtypecyuisine` et `ville` doivent etre nettoyées"
      ]
    },
    {
      "cell_type": "code",
      "execution_count": null,
      "metadata": {
        "id": "xDfOPqaSmd-V",
        "outputId": "f6534459-ffae-4b9b-95f3-98210989ed31",
        "colab": {
          "base_uri": "https://localhost:8080/"
        }
      },
      "outputs": [
        {
          "output_type": "execute_result",
          "data": {
            "text/plain": [
              "Index(['number', 'codeinsee', 'codepostal', 'cp', 'etage', 'idagence',\n",
              "       'idannonce', 'idtiers', 'idtypechauffage', 'idtypecommerce',\n",
              "       'idtypecuisine', 'idtypepublicationsourcecouplage', 'naturebien',\n",
              "       'nb_chambres', 'nb_photos', 'nb_pieces', 'position', 'prix',\n",
              "       'si_balcon', 'si_sdEau', 'si_sdbain', 'surface', 'typedebien', 'ville'],\n",
              "      dtype='object')"
            ]
          },
          "metadata": {},
          "execution_count": 5
        }
      ],
      "source": [
        "# Afficher le nom des colonnes du dataset\n",
        "dataset.columns"
      ]
    },
    {
      "cell_type": "code",
      "execution_count": null,
      "metadata": {
        "id": "N0d0WNpbmd-W",
        "outputId": "efca70d2-9dc0-4380-eeab-3523a2e85f04",
        "colab": {
          "base_uri": "https://localhost:8080/"
        }
      },
      "outputs": [
        {
          "output_type": "execute_result",
          "data": {
            "text/plain": [
              "array(['√©quip√©e', 'aucune', '0', 'coin cuisine √©quip√©',\n",
              "       'coin cuisine', 's√©par√©e', 's√©par√©e √©quip√©e', 'am√©ricaine',\n",
              "       'am√©ricaine √©quip√©e', '-1'], dtype=object)"
            ]
          },
          "metadata": {},
          "execution_count": 6
        }
      ],
      "source": [
        "# Afficher la fréquence des types de cuisine.\n",
        "dataset['idtypecuisine'].unique()"
      ]
    },
    {
      "cell_type": "markdown",
      "metadata": {
        "id": "NC1fkK7Tmd-X"
      },
      "source": [
        "Que veulent dire les valeurs 0 et -1 ?\n",
        "On pourrait penser que 0 corresond à la situation ou il n'y a pas de cuisine mais ce n'est pas le cas en regardant les données. Nous allons créer des groupes à part pour ces catégories\n"
      ]
    },
    {
      "cell_type": "code",
      "execution_count": null,
      "metadata": {
        "id": "aOHzw0g6md-X"
      },
      "outputs": [],
      "source": [
        "# Correction des données\n",
        "mapper = {\n",
        "    's√©par√©e': 'séparée',\n",
        "    '0': 'categorie_0',\n",
        "    's√©par√©e √©quip√©e': 'séparée équipée',\n",
        "    'aucune': 'aucune',\n",
        "    'am√©ricaine √©quip√©e': 'américaine équipée',\n",
        "    '√©quip√©e': 'équipée',\n",
        "    'am√©ricaine': 'américaine',\n",
        "    'coin cuisine': 'coin cuisine',\n",
        "    'coin cuisine √©quip√©': 'coin cuisine équipé',\n",
        "    '-1': 'catégorie_1'\n",
        "}"
      ]
    },
    {
      "cell_type": "code",
      "execution_count": null,
      "metadata": {
        "id": "ciE9V-75md-X"
      },
      "outputs": [],
      "source": [
        "# Appliquer les corrections\n",
        "dataset['idtypecuisine'] = dataset['idtypecuisine'].map(mapper)"
      ]
    },
    {
      "cell_type": "markdown",
      "source": [
        "Nous allons également corriger les caractères accentués pour la variable ville."
      ],
      "metadata": {
        "id": "o-Q7rvs34fgo"
      }
    },
    {
      "cell_type": "code",
      "execution_count": null,
      "metadata": {
        "id": "lZeCfAe9md-X",
        "outputId": "bf5b511b-f221-4e2d-dbdf-3324243a74c6",
        "colab": {
          "base_uri": "https://localhost:8080/"
        }
      },
      "outputs": [
        {
          "output_type": "execute_result",
          "data": {
            "text/plain": [
              "array(['Paris 16√®me', 'Paris 10√®me', 'Paris 18√®me', 'Melun',\n",
              "       'Corbeil Essonnes', '√âtampes', 'Issou', 'Limay', '√âvry', 'Avon',\n",
              "       'Evry', 'Saint-Denis', 'Trappes', 'Ris Orangis', 'Paris 19√®me',\n",
              "       'Paris 14√®me', '√âpinay-sous-S√©nart', 'Eragny sur Oise',\n",
              "       'Argenteuil', 'Bessancourt', 'Etampes', 'Montlhery', 'Gagny',\n",
              "       'Fleury Merogis', 'Villeparisis', 'Fosses', 'Vaujours', 'Les Ulis',\n",
              "       'Meaux', 'Pontoise', 'Cergy', 'Verneuil sur Seine',\n",
              "       'Brie Comte Robert', 'Carrieres sous Poissy', 'H√©ricy', 'Igny',\n",
              "       'Paris 20√®me', 'Les Pavillons-sous-Bois', 'Mennecy',\n",
              "       'Vert le Petit', 'Morsang-sur-Orge', 'Linas', 'Mandres les Roses',\n",
              "       'Paris 17√®me', 'Villepinte', 'Paris 2√®me', 'Paris 15√®me',\n",
              "       'Paris 6√®me', 'Paris 3√®me', 'Paris 8√®me', 'Paris 5√®me',\n",
              "       'Paris 11√®me', 'Paris 9√®me', 'Paris 13√®me', 'Paris 12√®me',\n",
              "       'Garches', 'Chatou', 'Sucy en Brie', 'Louveciennes', 'Le Pecq',\n",
              "       'Enghien les Bains', 'Saint Germain en Laye', 'Paris 4√®me',\n",
              "       'Lognes', 'Villejuif', 'Clamart', 'Montesson', 'Viry Chatillon',\n",
              "       'Sartrouville', 'Livry-Gargan', 'La Celle Saint Cloud',\n",
              "       'Carri√®res sous Poissy', 'Paris 1er', 'Paris 7√®me',\n",
              "       'Saint Maurice', 'Chennevieres sur Marne', 'Bagnolet', 'Les Lilas',\n",
              "       'Pomponne', 'Noisy le Roi', 'L Isle Adam', 'Montmorency',\n",
              "       'Les Clayes sous Bois', 'Le Kremlin Bicetre', 'Courbevoie',\n",
              "       'St Remy les Chevreuse', 'Verrieres le Buisson', 'Montrouge',\n",
              "       'Maisons-Laffitte', 'La Garenne-Colombes', 'Bailly', 'Saint-Ouen',\n",
              "       'Serris', 'Chessy', 'Gentilly', 'Versailles', 'Asnieres sur Seine',\n",
              "       'Chatillon', 'Suresnes', 'Le Port Marly', 'Gif-sur-Yvette',\n",
              "       'Asni√®res-sur-Seine', 'Maisons Alfort', 'Buc', 'Le Mesnil le Roi',\n",
              "       'Boulogne', 'Issy-les-Moulineaux', 'St Germain en Laye', 'Meudon',\n",
              "       'Neuilly-sur-Seine', 'Saint-Mand√©', 'Clichy'], dtype=object)"
            ]
          },
          "metadata": {},
          "execution_count": 9
        }
      ],
      "source": [
        "# Afficher les 10 premières villes\n",
        "dataset['ville'].unique()"
      ]
    },
    {
      "cell_type": "code",
      "execution_count": null,
      "metadata": {
        "id": "hFSOCCNDmd-Y"
      },
      "outputs": [],
      "source": [
        "# Corriger les accents\n",
        "dataset['ville'] =  (\n",
        "    dataset['ville']\n",
        "    .str.replace('√®', 'è')\n",
        "    .str.replace('√â', 'É')\n",
        "    .str.replace('√©', 'é')\n",
        "    .str.replace('√¨', 'ê')\n",
        ")"
      ]
    },
    {
      "cell_type": "code",
      "execution_count": null,
      "metadata": {
        "id": "ac9N-_rvmd-Y",
        "outputId": "19f20681-3087-4f0e-a51e-f05adb9f81ef",
        "colab": {
          "base_uri": "https://localhost:8080/"
        }
      },
      "outputs": [
        {
          "output_type": "execute_result",
          "data": {
            "text/plain": [
              "array(['Paris 16ème', 'Paris 10ème', 'Paris 18ème', 'Melun',\n",
              "       'Corbeil Essonnes', 'Étampes', 'Issou', 'Limay', 'Évry', 'Avon',\n",
              "       'Evry', 'Saint-Denis', 'Trappes', 'Ris Orangis', 'Paris 19ème',\n",
              "       'Paris 14ème', 'Épinay-sous-Sénart', 'Eragny sur Oise',\n",
              "       'Argenteuil', 'Bessancourt', 'Etampes', 'Montlhery', 'Gagny',\n",
              "       'Fleury Merogis', 'Villeparisis', 'Fosses', 'Vaujours', 'Les Ulis',\n",
              "       'Meaux', 'Pontoise', 'Cergy', 'Verneuil sur Seine',\n",
              "       'Brie Comte Robert', 'Carrieres sous Poissy', 'Héricy', 'Igny',\n",
              "       'Paris 20ème', 'Les Pavillons-sous-Bois', 'Mennecy',\n",
              "       'Vert le Petit', 'Morsang-sur-Orge', 'Linas', 'Mandres les Roses',\n",
              "       'Paris 17ème', 'Villepinte', 'Paris 2ème', 'Paris 15ème',\n",
              "       'Paris 6ème', 'Paris 3ème', 'Paris 8ème', 'Paris 5ème',\n",
              "       'Paris 11ème', 'Paris 9ème', 'Paris 13ème', 'Paris 12ème',\n",
              "       'Garches', 'Chatou', 'Sucy en Brie', 'Louveciennes', 'Le Pecq',\n",
              "       'Enghien les Bains', 'Saint Germain en Laye', 'Paris 4ème',\n",
              "       'Lognes', 'Villejuif', 'Clamart', 'Montesson', 'Viry Chatillon',\n",
              "       'Sartrouville', 'Livry-Gargan', 'La Celle Saint Cloud',\n",
              "       'Carrières sous Poissy', 'Paris 1er', 'Paris 7ème',\n",
              "       'Saint Maurice', 'Chennevieres sur Marne', 'Bagnolet', 'Les Lilas',\n",
              "       'Pomponne', 'Noisy le Roi', 'L Isle Adam', 'Montmorency',\n",
              "       'Les Clayes sous Bois', 'Le Kremlin Bicetre', 'Courbevoie',\n",
              "       'St Remy les Chevreuse', 'Verrieres le Buisson', 'Montrouge',\n",
              "       'Maisons-Laffitte', 'La Garenne-Colombes', 'Bailly', 'Saint-Ouen',\n",
              "       'Serris', 'Chessy', 'Gentilly', 'Versailles', 'Asnieres sur Seine',\n",
              "       'Chatillon', 'Suresnes', 'Le Port Marly', 'Gif-sur-Yvette',\n",
              "       'Asnières-sur-Seine', 'Maisons Alfort', 'Buc', 'Le Mesnil le Roi',\n",
              "       'Boulogne', 'Issy-les-Moulineaux', 'St Germain en Laye', 'Meudon',\n",
              "       'Neuilly-sur-Seine', 'Saint-Mandé', 'Clichy'], dtype=object)"
            ]
          },
          "metadata": {},
          "execution_count": 11
        }
      ],
      "source": [
        "dataset['ville'].unique()"
      ]
    },
    {
      "cell_type": "markdown",
      "metadata": {
        "id": "A6N3VNAKmd-Y"
      },
      "source": [
        "## Analyse exploratoire des données\n",
        "Nous allons commencer par un aperçu sur les données sous forme de résumé statitiques des différentes variables numériques."
      ]
    },
    {
      "cell_type": "code",
      "source": [
        "dataset.describe()"
      ],
      "metadata": {
        "colab": {
          "base_uri": "https://localhost:8080/",
          "height": 317
        },
        "id": "QHLjDAm35AwR",
        "outputId": "3d14801f-b5ca-4889-dd44-373cedce382a"
      },
      "execution_count": null,
      "outputs": [
        {
          "output_type": "execute_result",
          "data": {
            "text/plain": [
              "            number      codeinsee    codepostal            cp   etage  \\\n",
              "count  8899.000000    8899.000000   8899.000000   8899.000000  8899.0   \n",
              "mean      9.531296  751745.680189  75186.144735  75186.144735     0.0   \n",
              "std       5.765614   16287.896954   1660.091189   1660.091189     0.0   \n",
              "min       0.000000  750101.000000  75001.000000  75001.000000     0.0   \n",
              "25%       5.000000  750108.000000  75008.000000  75008.000000     0.0   \n",
              "50%      10.000000  750114.000000  75014.000000  75014.000000     0.0   \n",
              "75%      15.000000  750116.000000  75017.000000  75017.000000     0.0   \n",
              "max      19.000000  950500.000000  95880.000000  95880.000000     0.0   \n",
              "\n",
              "            idagence     idannonce        idtiers  idtypechauffage  \\\n",
              "count    8899.000000  8.899000e+03    8899.000000           8899.0   \n",
              "mean   124110.094280  1.473531e+08  136989.252500              0.0   \n",
              "std    104338.907661  3.661055e+06  109732.960794              0.0   \n",
              "min        33.000000  7.437284e+07      98.000000              0.0   \n",
              "25%     39738.000000  1.463174e+08   26516.000000              0.0   \n",
              "50%     93920.000000  1.486361e+08  123925.000000              0.0   \n",
              "75%    203657.000000  1.495161e+08  213489.000000              0.0   \n",
              "max    362103.000000  1.502498e+08  425123.000000              0.0   \n",
              "\n",
              "       idtypecommerce   naturebien  nb_chambres    nb_photos    nb_pieces  \\\n",
              "count          8899.0  8899.000000  8899.000000  8899.000000  8899.000000   \n",
              "mean              0.0     1.638723     2.319474     9.697269     3.838746   \n",
              "std               0.0     0.931184     1.170877     4.511174     1.483164   \n",
              "min               0.0     1.000000     1.000000     0.000000     1.000000   \n",
              "25%               0.0     1.000000     1.000000     6.000000     3.000000   \n",
              "50%               0.0     1.000000     2.000000     9.000000     4.000000   \n",
              "75%               0.0     3.000000     3.000000    12.000000     5.000000   \n",
              "max               0.0     3.000000    22.000000    27.000000    53.000000   \n",
              "\n",
              "          position          prix    si_balcon  si_sdEau  si_sdbain  \\\n",
              "count  8899.000000  8.899000e+03  8899.000000    8899.0     8899.0   \n",
              "mean      9.531296  1.210579e+06     0.271716       0.0        0.0   \n",
              "std       5.765614  4.462923e+05     0.444869       0.0        0.0   \n",
              "min       0.000000  5.900000e+04     0.000000       0.0        0.0   \n",
              "25%       5.000000  7.950000e+05     0.000000       0.0        0.0   \n",
              "50%      10.000000  1.475000e+06     0.000000       0.0        0.0   \n",
              "75%      15.000000  1.490000e+06     1.000000       0.0        0.0   \n",
              "max      19.000000  2.000000e+06     1.000000       0.0        0.0   \n",
              "\n",
              "           surface  \n",
              "count  8899.000000  \n",
              "mean     96.070707  \n",
              "std      38.127731  \n",
              "min       0.000000  \n",
              "25%      66.400000  \n",
              "50%      93.000000  \n",
              "75%     129.000000  \n",
              "max     250.000000  "
            ],
            "text/html": [
              "\n",
              "  <div id=\"df-53d349f9-4546-4a92-8dae-4dfc54ea6c2f\" class=\"colab-df-container\">\n",
              "    <div>\n",
              "<style scoped>\n",
              "    .dataframe tbody tr th:only-of-type {\n",
              "        vertical-align: middle;\n",
              "    }\n",
              "\n",
              "    .dataframe tbody tr th {\n",
              "        vertical-align: top;\n",
              "    }\n",
              "\n",
              "    .dataframe thead th {\n",
              "        text-align: right;\n",
              "    }\n",
              "</style>\n",
              "<table border=\"1\" class=\"dataframe\">\n",
              "  <thead>\n",
              "    <tr style=\"text-align: right;\">\n",
              "      <th></th>\n",
              "      <th>number</th>\n",
              "      <th>codeinsee</th>\n",
              "      <th>codepostal</th>\n",
              "      <th>cp</th>\n",
              "      <th>etage</th>\n",
              "      <th>idagence</th>\n",
              "      <th>idannonce</th>\n",
              "      <th>idtiers</th>\n",
              "      <th>idtypechauffage</th>\n",
              "      <th>idtypecommerce</th>\n",
              "      <th>naturebien</th>\n",
              "      <th>nb_chambres</th>\n",
              "      <th>nb_photos</th>\n",
              "      <th>nb_pieces</th>\n",
              "      <th>position</th>\n",
              "      <th>prix</th>\n",
              "      <th>si_balcon</th>\n",
              "      <th>si_sdEau</th>\n",
              "      <th>si_sdbain</th>\n",
              "      <th>surface</th>\n",
              "    </tr>\n",
              "  </thead>\n",
              "  <tbody>\n",
              "    <tr>\n",
              "      <th>count</th>\n",
              "      <td>8899.000000</td>\n",
              "      <td>8899.000000</td>\n",
              "      <td>8899.000000</td>\n",
              "      <td>8899.000000</td>\n",
              "      <td>8899.0</td>\n",
              "      <td>8899.000000</td>\n",
              "      <td>8.899000e+03</td>\n",
              "      <td>8899.000000</td>\n",
              "      <td>8899.0</td>\n",
              "      <td>8899.0</td>\n",
              "      <td>8899.000000</td>\n",
              "      <td>8899.000000</td>\n",
              "      <td>8899.000000</td>\n",
              "      <td>8899.000000</td>\n",
              "      <td>8899.000000</td>\n",
              "      <td>8.899000e+03</td>\n",
              "      <td>8899.000000</td>\n",
              "      <td>8899.0</td>\n",
              "      <td>8899.0</td>\n",
              "      <td>8899.000000</td>\n",
              "    </tr>\n",
              "    <tr>\n",
              "      <th>mean</th>\n",
              "      <td>9.531296</td>\n",
              "      <td>751745.680189</td>\n",
              "      <td>75186.144735</td>\n",
              "      <td>75186.144735</td>\n",
              "      <td>0.0</td>\n",
              "      <td>124110.094280</td>\n",
              "      <td>1.473531e+08</td>\n",
              "      <td>136989.252500</td>\n",
              "      <td>0.0</td>\n",
              "      <td>0.0</td>\n",
              "      <td>1.638723</td>\n",
              "      <td>2.319474</td>\n",
              "      <td>9.697269</td>\n",
              "      <td>3.838746</td>\n",
              "      <td>9.531296</td>\n",
              "      <td>1.210579e+06</td>\n",
              "      <td>0.271716</td>\n",
              "      <td>0.0</td>\n",
              "      <td>0.0</td>\n",
              "      <td>96.070707</td>\n",
              "    </tr>\n",
              "    <tr>\n",
              "      <th>std</th>\n",
              "      <td>5.765614</td>\n",
              "      <td>16287.896954</td>\n",
              "      <td>1660.091189</td>\n",
              "      <td>1660.091189</td>\n",
              "      <td>0.0</td>\n",
              "      <td>104338.907661</td>\n",
              "      <td>3.661055e+06</td>\n",
              "      <td>109732.960794</td>\n",
              "      <td>0.0</td>\n",
              "      <td>0.0</td>\n",
              "      <td>0.931184</td>\n",
              "      <td>1.170877</td>\n",
              "      <td>4.511174</td>\n",
              "      <td>1.483164</td>\n",
              "      <td>5.765614</td>\n",
              "      <td>4.462923e+05</td>\n",
              "      <td>0.444869</td>\n",
              "      <td>0.0</td>\n",
              "      <td>0.0</td>\n",
              "      <td>38.127731</td>\n",
              "    </tr>\n",
              "    <tr>\n",
              "      <th>min</th>\n",
              "      <td>0.000000</td>\n",
              "      <td>750101.000000</td>\n",
              "      <td>75001.000000</td>\n",
              "      <td>75001.000000</td>\n",
              "      <td>0.0</td>\n",
              "      <td>33.000000</td>\n",
              "      <td>7.437284e+07</td>\n",
              "      <td>98.000000</td>\n",
              "      <td>0.0</td>\n",
              "      <td>0.0</td>\n",
              "      <td>1.000000</td>\n",
              "      <td>1.000000</td>\n",
              "      <td>0.000000</td>\n",
              "      <td>1.000000</td>\n",
              "      <td>0.000000</td>\n",
              "      <td>5.900000e+04</td>\n",
              "      <td>0.000000</td>\n",
              "      <td>0.0</td>\n",
              "      <td>0.0</td>\n",
              "      <td>0.000000</td>\n",
              "    </tr>\n",
              "    <tr>\n",
              "      <th>25%</th>\n",
              "      <td>5.000000</td>\n",
              "      <td>750108.000000</td>\n",
              "      <td>75008.000000</td>\n",
              "      <td>75008.000000</td>\n",
              "      <td>0.0</td>\n",
              "      <td>39738.000000</td>\n",
              "      <td>1.463174e+08</td>\n",
              "      <td>26516.000000</td>\n",
              "      <td>0.0</td>\n",
              "      <td>0.0</td>\n",
              "      <td>1.000000</td>\n",
              "      <td>1.000000</td>\n",
              "      <td>6.000000</td>\n",
              "      <td>3.000000</td>\n",
              "      <td>5.000000</td>\n",
              "      <td>7.950000e+05</td>\n",
              "      <td>0.000000</td>\n",
              "      <td>0.0</td>\n",
              "      <td>0.0</td>\n",
              "      <td>66.400000</td>\n",
              "    </tr>\n",
              "    <tr>\n",
              "      <th>50%</th>\n",
              "      <td>10.000000</td>\n",
              "      <td>750114.000000</td>\n",
              "      <td>75014.000000</td>\n",
              "      <td>75014.000000</td>\n",
              "      <td>0.0</td>\n",
              "      <td>93920.000000</td>\n",
              "      <td>1.486361e+08</td>\n",
              "      <td>123925.000000</td>\n",
              "      <td>0.0</td>\n",
              "      <td>0.0</td>\n",
              "      <td>1.000000</td>\n",
              "      <td>2.000000</td>\n",
              "      <td>9.000000</td>\n",
              "      <td>4.000000</td>\n",
              "      <td>10.000000</td>\n",
              "      <td>1.475000e+06</td>\n",
              "      <td>0.000000</td>\n",
              "      <td>0.0</td>\n",
              "      <td>0.0</td>\n",
              "      <td>93.000000</td>\n",
              "    </tr>\n",
              "    <tr>\n",
              "      <th>75%</th>\n",
              "      <td>15.000000</td>\n",
              "      <td>750116.000000</td>\n",
              "      <td>75017.000000</td>\n",
              "      <td>75017.000000</td>\n",
              "      <td>0.0</td>\n",
              "      <td>203657.000000</td>\n",
              "      <td>1.495161e+08</td>\n",
              "      <td>213489.000000</td>\n",
              "      <td>0.0</td>\n",
              "      <td>0.0</td>\n",
              "      <td>3.000000</td>\n",
              "      <td>3.000000</td>\n",
              "      <td>12.000000</td>\n",
              "      <td>5.000000</td>\n",
              "      <td>15.000000</td>\n",
              "      <td>1.490000e+06</td>\n",
              "      <td>1.000000</td>\n",
              "      <td>0.0</td>\n",
              "      <td>0.0</td>\n",
              "      <td>129.000000</td>\n",
              "    </tr>\n",
              "    <tr>\n",
              "      <th>max</th>\n",
              "      <td>19.000000</td>\n",
              "      <td>950500.000000</td>\n",
              "      <td>95880.000000</td>\n",
              "      <td>95880.000000</td>\n",
              "      <td>0.0</td>\n",
              "      <td>362103.000000</td>\n",
              "      <td>1.502498e+08</td>\n",
              "      <td>425123.000000</td>\n",
              "      <td>0.0</td>\n",
              "      <td>0.0</td>\n",
              "      <td>3.000000</td>\n",
              "      <td>22.000000</td>\n",
              "      <td>27.000000</td>\n",
              "      <td>53.000000</td>\n",
              "      <td>19.000000</td>\n",
              "      <td>2.000000e+06</td>\n",
              "      <td>1.000000</td>\n",
              "      <td>0.0</td>\n",
              "      <td>0.0</td>\n",
              "      <td>250.000000</td>\n",
              "    </tr>\n",
              "  </tbody>\n",
              "</table>\n",
              "</div>\n",
              "    <div class=\"colab-df-buttons\">\n",
              "\n",
              "  <div class=\"colab-df-container\">\n",
              "    <button class=\"colab-df-convert\" onclick=\"convertToInteractive('df-53d349f9-4546-4a92-8dae-4dfc54ea6c2f')\"\n",
              "            title=\"Convert this dataframe to an interactive table.\"\n",
              "            style=\"display:none;\">\n",
              "\n",
              "  <svg xmlns=\"http://www.w3.org/2000/svg\" height=\"24px\" viewBox=\"0 -960 960 960\">\n",
              "    <path d=\"M120-120v-720h720v720H120Zm60-500h600v-160H180v160Zm220 220h160v-160H400v160Zm0 220h160v-160H400v160ZM180-400h160v-160H180v160Zm440 0h160v-160H620v160ZM180-180h160v-160H180v160Zm440 0h160v-160H620v160Z\"/>\n",
              "  </svg>\n",
              "    </button>\n",
              "\n",
              "  <style>\n",
              "    .colab-df-container {\n",
              "      display:flex;\n",
              "      gap: 12px;\n",
              "    }\n",
              "\n",
              "    .colab-df-convert {\n",
              "      background-color: #E8F0FE;\n",
              "      border: none;\n",
              "      border-radius: 50%;\n",
              "      cursor: pointer;\n",
              "      display: none;\n",
              "      fill: #1967D2;\n",
              "      height: 32px;\n",
              "      padding: 0 0 0 0;\n",
              "      width: 32px;\n",
              "    }\n",
              "\n",
              "    .colab-df-convert:hover {\n",
              "      background-color: #E2EBFA;\n",
              "      box-shadow: 0px 1px 2px rgba(60, 64, 67, 0.3), 0px 1px 3px 1px rgba(60, 64, 67, 0.15);\n",
              "      fill: #174EA6;\n",
              "    }\n",
              "\n",
              "    .colab-df-buttons div {\n",
              "      margin-bottom: 4px;\n",
              "    }\n",
              "\n",
              "    [theme=dark] .colab-df-convert {\n",
              "      background-color: #3B4455;\n",
              "      fill: #D2E3FC;\n",
              "    }\n",
              "\n",
              "    [theme=dark] .colab-df-convert:hover {\n",
              "      background-color: #434B5C;\n",
              "      box-shadow: 0px 1px 3px 1px rgba(0, 0, 0, 0.15);\n",
              "      filter: drop-shadow(0px 1px 2px rgba(0, 0, 0, 0.3));\n",
              "      fill: #FFFFFF;\n",
              "    }\n",
              "  </style>\n",
              "\n",
              "    <script>\n",
              "      const buttonEl =\n",
              "        document.querySelector('#df-53d349f9-4546-4a92-8dae-4dfc54ea6c2f button.colab-df-convert');\n",
              "      buttonEl.style.display =\n",
              "        google.colab.kernel.accessAllowed ? 'block' : 'none';\n",
              "\n",
              "      async function convertToInteractive(key) {\n",
              "        const element = document.querySelector('#df-53d349f9-4546-4a92-8dae-4dfc54ea6c2f');\n",
              "        const dataTable =\n",
              "          await google.colab.kernel.invokeFunction('convertToInteractive',\n",
              "                                                    [key], {});\n",
              "        if (!dataTable) return;\n",
              "\n",
              "        const docLinkHtml = 'Like what you see? Visit the ' +\n",
              "          '<a target=\"_blank\" href=https://colab.research.google.com/notebooks/data_table.ipynb>data table notebook</a>'\n",
              "          + ' to learn more about interactive tables.';\n",
              "        element.innerHTML = '';\n",
              "        dataTable['output_type'] = 'display_data';\n",
              "        await google.colab.output.renderOutput(dataTable, element);\n",
              "        const docLink = document.createElement('div');\n",
              "        docLink.innerHTML = docLinkHtml;\n",
              "        element.appendChild(docLink);\n",
              "      }\n",
              "    </script>\n",
              "  </div>\n",
              "\n",
              "\n",
              "<div id=\"df-6acdb3b9-899d-4ee6-8faa-a021e984ebea\">\n",
              "  <button class=\"colab-df-quickchart\" onclick=\"quickchart('df-6acdb3b9-899d-4ee6-8faa-a021e984ebea')\"\n",
              "            title=\"Suggest charts\"\n",
              "            style=\"display:none;\">\n",
              "\n",
              "<svg xmlns=\"http://www.w3.org/2000/svg\" height=\"24px\"viewBox=\"0 0 24 24\"\n",
              "     width=\"24px\">\n",
              "    <g>\n",
              "        <path d=\"M19 3H5c-1.1 0-2 .9-2 2v14c0 1.1.9 2 2 2h14c1.1 0 2-.9 2-2V5c0-1.1-.9-2-2-2zM9 17H7v-7h2v7zm4 0h-2V7h2v10zm4 0h-2v-4h2v4z\"/>\n",
              "    </g>\n",
              "</svg>\n",
              "  </button>\n",
              "\n",
              "<style>\n",
              "  .colab-df-quickchart {\n",
              "      --bg-color: #E8F0FE;\n",
              "      --fill-color: #1967D2;\n",
              "      --hover-bg-color: #E2EBFA;\n",
              "      --hover-fill-color: #174EA6;\n",
              "      --disabled-fill-color: #AAA;\n",
              "      --disabled-bg-color: #DDD;\n",
              "  }\n",
              "\n",
              "  [theme=dark] .colab-df-quickchart {\n",
              "      --bg-color: #3B4455;\n",
              "      --fill-color: #D2E3FC;\n",
              "      --hover-bg-color: #434B5C;\n",
              "      --hover-fill-color: #FFFFFF;\n",
              "      --disabled-bg-color: #3B4455;\n",
              "      --disabled-fill-color: #666;\n",
              "  }\n",
              "\n",
              "  .colab-df-quickchart {\n",
              "    background-color: var(--bg-color);\n",
              "    border: none;\n",
              "    border-radius: 50%;\n",
              "    cursor: pointer;\n",
              "    display: none;\n",
              "    fill: var(--fill-color);\n",
              "    height: 32px;\n",
              "    padding: 0;\n",
              "    width: 32px;\n",
              "  }\n",
              "\n",
              "  .colab-df-quickchart:hover {\n",
              "    background-color: var(--hover-bg-color);\n",
              "    box-shadow: 0 1px 2px rgba(60, 64, 67, 0.3), 0 1px 3px 1px rgba(60, 64, 67, 0.15);\n",
              "    fill: var(--button-hover-fill-color);\n",
              "  }\n",
              "\n",
              "  .colab-df-quickchart-complete:disabled,\n",
              "  .colab-df-quickchart-complete:disabled:hover {\n",
              "    background-color: var(--disabled-bg-color);\n",
              "    fill: var(--disabled-fill-color);\n",
              "    box-shadow: none;\n",
              "  }\n",
              "\n",
              "  .colab-df-spinner {\n",
              "    border: 2px solid var(--fill-color);\n",
              "    border-color: transparent;\n",
              "    border-bottom-color: var(--fill-color);\n",
              "    animation:\n",
              "      spin 1s steps(1) infinite;\n",
              "  }\n",
              "\n",
              "  @keyframes spin {\n",
              "    0% {\n",
              "      border-color: transparent;\n",
              "      border-bottom-color: var(--fill-color);\n",
              "      border-left-color: var(--fill-color);\n",
              "    }\n",
              "    20% {\n",
              "      border-color: transparent;\n",
              "      border-left-color: var(--fill-color);\n",
              "      border-top-color: var(--fill-color);\n",
              "    }\n",
              "    30% {\n",
              "      border-color: transparent;\n",
              "      border-left-color: var(--fill-color);\n",
              "      border-top-color: var(--fill-color);\n",
              "      border-right-color: var(--fill-color);\n",
              "    }\n",
              "    40% {\n",
              "      border-color: transparent;\n",
              "      border-right-color: var(--fill-color);\n",
              "      border-top-color: var(--fill-color);\n",
              "    }\n",
              "    60% {\n",
              "      border-color: transparent;\n",
              "      border-right-color: var(--fill-color);\n",
              "    }\n",
              "    80% {\n",
              "      border-color: transparent;\n",
              "      border-right-color: var(--fill-color);\n",
              "      border-bottom-color: var(--fill-color);\n",
              "    }\n",
              "    90% {\n",
              "      border-color: transparent;\n",
              "      border-bottom-color: var(--fill-color);\n",
              "    }\n",
              "  }\n",
              "</style>\n",
              "\n",
              "  <script>\n",
              "    async function quickchart(key) {\n",
              "      const quickchartButtonEl =\n",
              "        document.querySelector('#' + key + ' button');\n",
              "      quickchartButtonEl.disabled = true;  // To prevent multiple clicks.\n",
              "      quickchartButtonEl.classList.add('colab-df-spinner');\n",
              "      try {\n",
              "        const charts = await google.colab.kernel.invokeFunction(\n",
              "            'suggestCharts', [key], {});\n",
              "      } catch (error) {\n",
              "        console.error('Error during call to suggestCharts:', error);\n",
              "      }\n",
              "      quickchartButtonEl.classList.remove('colab-df-spinner');\n",
              "      quickchartButtonEl.classList.add('colab-df-quickchart-complete');\n",
              "    }\n",
              "    (() => {\n",
              "      let quickchartButtonEl =\n",
              "        document.querySelector('#df-6acdb3b9-899d-4ee6-8faa-a021e984ebea button');\n",
              "      quickchartButtonEl.style.display =\n",
              "        google.colab.kernel.accessAllowed ? 'block' : 'none';\n",
              "    })();\n",
              "  </script>\n",
              "</div>\n",
              "\n",
              "    </div>\n",
              "  </div>\n"
            ],
            "application/vnd.google.colaboratory.intrinsic+json": {
              "type": "dataframe",
              "summary": "{\n  \"name\": \"dataset\",\n  \"rows\": 8,\n  \"fields\": [\n    {\n      \"column\": \"number\",\n      \"properties\": {\n        \"dtype\": \"number\",\n        \"std\": 3143.02969513378,\n        \"min\": 0.0,\n        \"max\": 8899.0,\n        \"num_unique_values\": 8,\n        \"samples\": [\n          9.531295651196764,\n          10.0,\n          8899.0\n        ],\n        \"semantic_type\": \"\",\n        \"description\": \"\"\n      }\n    },\n    {\n      \"column\": \"codeinsee\",\n      \"properties\": {\n        \"dtype\": \"number\",\n        \"std\": 363608.62938521843,\n        \"min\": 8899.0,\n        \"max\": 950500.0,\n        \"num_unique_values\": 8,\n        \"samples\": [\n          751745.6801887853,\n          750114.0,\n          8899.0\n        ],\n        \"semantic_type\": \"\",\n        \"description\": \"\"\n      }\n    },\n    {\n      \"column\": \"codepostal\",\n      \"properties\": {\n        \"dtype\": \"number\",\n        \"std\": 34710.444036961664,\n        \"min\": 1660.0911886788774,\n        \"max\": 95880.0,\n        \"num_unique_values\": 8,\n        \"samples\": [\n          75186.14473536353,\n          75014.0,\n          8899.0\n        ],\n        \"semantic_type\": \"\",\n        \"description\": \"\"\n      }\n    },\n    {\n      \"column\": \"cp\",\n      \"properties\": {\n        \"dtype\": \"number\",\n        \"std\": 34710.444036961664,\n        \"min\": 1660.0911886788774,\n        \"max\": 95880.0,\n        \"num_unique_values\": 8,\n        \"samples\": [\n          75186.14473536353,\n          75014.0,\n          8899.0\n        ],\n        \"semantic_type\": \"\",\n        \"description\": \"\"\n      }\n    },\n    {\n      \"column\": \"etage\",\n      \"properties\": {\n        \"dtype\": \"number\",\n        \"std\": 3146.2716228895433,\n        \"min\": 0.0,\n        \"max\": 8899.0,\n        \"num_unique_values\": 2,\n        \"samples\": [\n          0.0,\n          8899.0\n        ],\n        \"semantic_type\": \"\",\n        \"description\": \"\"\n      }\n    },\n    {\n      \"column\": \"idagence\",\n      \"properties\": {\n        \"dtype\": \"number\",\n        \"std\": 119322.43322275401,\n        \"min\": 33.0,\n        \"max\": 362103.0,\n        \"num_unique_values\": 8,\n        \"samples\": [\n          124110.0942802562,\n          93920.0\n        ],\n        \"semantic_type\": \"\",\n        \"description\": \"\"\n      }\n    },\n    {\n      \"column\": \"idannonce\",\n      \"properties\": {\n        \"dtype\": \"number\",\n        \"std\": 67204967.93998112,\n        \"min\": 8899.0,\n        \"max\": 150249811.0,\n        \"num_unique_values\": 8,\n        \"samples\": [\n          147353076.88021126,\n          148636087.0\n        ],\n        \"semantic_type\": \"\",\n        \"description\": \"\"\n      }\n    },\n    {\n      \"column\": \"idtiers\",\n      \"properties\": {\n        \"dtype\": \"number\",\n        \"std\": 139801.17499619073,\n        \"min\": 98.0,\n        \"max\": 425123.0,\n        \"num_unique_values\": 8,\n        \"samples\": [\n          136989.25250028094,\n          123925.0\n        ],\n        \"semantic_type\": \"\",\n        \"description\": \"\"\n      }\n    },\n    {\n      \"column\": \"idtypechauffage\",\n      \"properties\": {\n        \"dtype\": \"number\",\n        \"std\": 3146.2716228895433,\n        \"min\": 0.0,\n        \"max\": 8899.0,\n        \"num_unique_values\": 2,\n        \"samples\": [\n          0.0,\n          8899.0\n        ],\n        \"semantic_type\": \"\",\n        \"description\": \"\"\n      }\n    },\n    {\n      \"column\": \"idtypecommerce\",\n      \"properties\": {\n        \"dtype\": \"number\",\n        \"std\": 3146.2716228895433,\n        \"min\": 0.0,\n        \"max\": 8899.0,\n        \"num_unique_values\": 2,\n        \"samples\": [\n          0.0,\n          8899.0\n        ],\n        \"semantic_type\": \"\",\n        \"description\": \"\"\n      }\n    },\n    {\n      \"column\": \"naturebien\",\n      \"properties\": {\n        \"dtype\": \"number\",\n        \"std\": 3145.687377574848,\n        \"min\": 0.9311844642457452,\n        \"max\": 8899.0,\n        \"num_unique_values\": 5,\n        \"samples\": [\n          1.6387234520732668,\n          3.0\n        ],\n        \"semantic_type\": \"\",\n        \"description\": \"\"\n      }\n    },\n    {\n      \"column\": \"nb_chambres\",\n      \"properties\": {\n        \"dtype\": \"number\",\n        \"std\": 3144.63867478995,\n        \"min\": 1.0,\n        \"max\": 8899.0,\n        \"num_unique_values\": 7,\n        \"samples\": [\n          8899.0,\n          2.3194740982132824\n        ],\n        \"semantic_type\": \"\",\n        \"description\": \"\"\n      }\n    },\n    {\n      \"column\": \"nb_photos\",\n      \"properties\": {\n        \"dtype\": \"number\",\n        \"std\": 3142.836570895326,\n        \"min\": 0.0,\n        \"max\": 8899.0,\n        \"num_unique_values\": 8,\n        \"samples\": [\n          9.697269356107428,\n          9.0\n        ],\n        \"semantic_type\": \"\",\n        \"description\": \"\"\n      }\n    },\n    {\n      \"column\": \"nb_pieces\",\n      \"properties\": {\n        \"dtype\": \"number\",\n        \"std\": 3142.7181942641955,\n        \"min\": 1.0,\n        \"max\": 8899.0,\n        \"num_unique_values\": 8,\n        \"samples\": [\n          3.8387459265085964,\n          4.0\n        ],\n        \"semantic_type\": \"\",\n        \"description\": \"\"\n      }\n    },\n    {\n      \"column\": \"position\",\n      \"properties\": {\n        \"dtype\": \"number\",\n        \"std\": 3143.02969513378,\n        \"min\": 0.0,\n        \"max\": 8899.0,\n        \"num_unique_values\": 8,\n        \"samples\": [\n          9.531295651196764,\n          10.0\n        ],\n        \"semantic_type\": \"\",\n        \"description\": \"\"\n      }\n    },\n    {\n      \"column\": \"prix\",\n      \"properties\": {\n        \"dtype\": \"number\",\n        \"std\": 726367.2075705173,\n        \"min\": 8899.0,\n        \"max\": 2000000.0,\n        \"num_unique_values\": 8,\n        \"samples\": [\n          1210578.988538038,\n          1475000.0\n        ],\n        \"semantic_type\": \"\",\n        \"description\": \"\"\n      }\n    },\n    {\n      \"column\": \"si_balcon\",\n      \"properties\": {\n        \"dtype\": \"number\",\n        \"std\": 3146.134442261072,\n        \"min\": 0.0,\n        \"max\": 8899.0,\n        \"num_unique_values\": 5,\n        \"samples\": [\n          0.27171592313743115,\n          1.0\n        ],\n        \"semantic_type\": \"\",\n        \"description\": \"\"\n      }\n    },\n    {\n      \"column\": \"si_sdEau\",\n      \"properties\": {\n        \"dtype\": \"number\",\n        \"std\": 3146.2716228895433,\n        \"min\": 0.0,\n        \"max\": 8899.0,\n        \"num_unique_values\": 2,\n        \"samples\": [\n          0.0,\n          8899.0\n        ],\n        \"semantic_type\": \"\",\n        \"description\": \"\"\n      }\n    },\n    {\n      \"column\": \"si_sdbain\",\n      \"properties\": {\n        \"dtype\": \"number\",\n        \"std\": 3146.2716228895433,\n        \"min\": 0.0,\n        \"max\": 8899.0,\n        \"num_unique_values\": 2,\n        \"samples\": [\n          0.0,\n          8899.0\n        ],\n        \"semantic_type\": \"\",\n        \"description\": \"\"\n      }\n    },\n    {\n      \"column\": \"surface\",\n      \"properties\": {\n        \"dtype\": \"number\",\n        \"std\": 3113.1781230796605,\n        \"min\": 0.0,\n        \"max\": 8899.0,\n        \"num_unique_values\": 8,\n        \"samples\": [\n          96.07070682099112,\n          93.0\n        ],\n        \"semantic_type\": \"\",\n        \"description\": \"\"\n      }\n    }\n  ]\n}"
            }
          },
          "metadata": {},
          "execution_count": 12
        }
      ]
    },
    {
      "cell_type": "markdown",
      "source": [
        "Ce résumé statistique comporte déjà plusieurs enseignements :\n",
        "\n",
        "* Les colonnes `etage`, `idtypechauffage`, `idtypecommerce`, `si_sdEau`,\t`si_sdbain` ne comportent que des valeurs nulles. Elles n'apportent donc aucune information pour expliquer ou prédire le prix.\n",
        "\n",
        "* Le jeu de données contient des outliers : on peut par exemple noter que le maximum du nombre de pièces est 53. De même le maximum du nombre de chambre est 22. Par ailleurs le minimum de la surface est 0.\n",
        "\n",
        "Regardons ces outliers plus en détails.\n"
      ],
      "metadata": {
        "id": "LE7r_S2J57FS"
      }
    },
    {
      "cell_type": "code",
      "source": [
        "# sélectionner la ligne qui correspond au bien ayant 53 pièces\n"
      ],
      "metadata": {
        "id": "o_WHHkFCDLAt"
      },
      "execution_count": null,
      "outputs": []
    },
    {
      "cell_type": "code",
      "source": [
        "# Sélectionner la ligne qui correspond au bien ayant 22 chambres\n"
      ],
      "metadata": {
        "id": "AtL9WbHkDdCN"
      },
      "execution_count": null,
      "outputs": []
    },
    {
      "cell_type": "code",
      "source": [
        "# Sélectionner la ligne qui correspond au bien dont la surface est nulle\n"
      ],
      "metadata": {
        "id": "i80u1rg1DpiY"
      },
      "execution_count": null,
      "outputs": []
    },
    {
      "cell_type": "markdown",
      "source": [
        "On va maitnenant enlever les valeurs aberrantes du dataset."
      ],
      "metadata": {
        "id": "XKQdBR9aD8oG"
      }
    },
    {
      "cell_type": "code",
      "source": [
        "# Supprimer les lignes aberrantes\n"
      ],
      "metadata": {
        "id": "qDizSMLzD7T2"
      },
      "execution_count": null,
      "outputs": []
    },
    {
      "cell_type": "markdown",
      "source": [
        "Ragrdons maintenant la cardinalité des différentes variables. Ce qui nous intéresse ici, ce sont les variables catégorielles."
      ],
      "metadata": {
        "id": "gczfBjRwDLyy"
      }
    },
    {
      "cell_type": "code",
      "execution_count": null,
      "metadata": {
        "id": "0xee2la0md-Y",
        "outputId": "bd205409-4ac6-4441-8840-94cc84fedabd",
        "colab": {
          "base_uri": "https://localhost:8080/"
        }
      },
      "outputs": [
        {
          "output_type": "execute_result",
          "data": {
            "text/plain": [
              "si_sdbain                             1\n",
              "si_sdEau                              1\n",
              "etage                                 1\n",
              "idtypechauffage                       1\n",
              "idtypecommerce                        1\n",
              "si_balcon                             2\n",
              "typedebien                            2\n",
              "idtypepublicationsourcecouplage       3\n",
              "naturebien                            3\n",
              "nb_chambres                           6\n",
              "nb_pieces                             8\n",
              "idtypecuisine                        10\n",
              "position                             20\n",
              "number                               20\n",
              "nb_photos                            27\n",
              "cp                                  105\n",
              "codepostal                          105\n",
              "codeinsee                           107\n",
              "ville                               112\n",
              "prix                               1051\n",
              "surface                            1217\n",
              "idagence                           1412\n",
              "idtiers                            1412\n",
              "idannonce                          3812\n",
              "dtype: int64"
            ]
          },
          "metadata": {},
          "execution_count": 17
        }
      ],
      "source": [
        "# Combien de valeurs uniques possède chaque colonne ?\n",
        "dataset.nunique().sort_values()"
      ]
    },
    {
      "cell_type": "markdown",
      "metadata": {
        "id": "-UzFHRq5md-Y"
      },
      "source": [
        "* Les variables `si_sdbain`, `si_sdEau`, `etage`, `idtypechauffage`, `idtypecommerce` ne comportent qu'une unique valeur, comme nous venons de le voir plus haut.\n",
        "* `cp` et `codepostal` semblent se référer à la même variable. Par ailleurs, `codeinsee` et `ville` ont l'air de vehiculer plus ou moins la même information. En première approximation nous ne garderons qu'une seule de ces 4 variables.\n",
        "\n",
        "* Les variables `position` et `number` ont le même nombre de modalités.\n",
        "\n",
        "* Plus important peut-être, il y a 3815 modalités pour `idannonce` (annonces différentes) alors que le jeu de données contient 8899 lignes. On peut soupçonner ici la présence de doublons.\n",
        "\n",
        "* Les variables `idagence` et`idtiers` ont le même nombre de modalités, très élevé. Il y a 1413 modalités pour chacune des variables alors qu'il n'y a potentiellement que 3815 annonces uniques, soit un peu plus de deux annonces par modalité de `idagence`.\n",
        "\n",
        "Regardons ce dernier point plus en détails.\n",
        "\n"
      ]
    },
    {
      "cell_type": "code",
      "source": [
        "idanonce_counts = dataset['idannonce'].value_counts()\n",
        "display(idanonce_counts)\n",
        "idanonce_counts.values[:100]"
      ],
      "metadata": {
        "id": "XkVX5IO67yht"
      },
      "execution_count": null,
      "outputs": []
    },
    {
      "cell_type": "markdown",
      "source": [
        "On peut noter la présence d'annonces qui se répètent 202 ou 53 fois. Il s'agit probablement de doublons dus à la fusions de plusieurs bases de données."
      ],
      "metadata": {
        "id": "QBTdtbew7583"
      }
    },
    {
      "cell_type": "code",
      "source": [
        "# Supprimer les doublons\n",
        "dataset.drop_duplicates(inplace = True)\n",
        "dataset.shape"
      ],
      "metadata": {
        "colab": {
          "base_uri": "https://localhost:8080/"
        },
        "id": "wMTO5Zt5HZL9",
        "outputId": "b84d3244-3156-41b1-cb00-f70dd5214e0f"
      },
      "execution_count": null,
      "outputs": [
        {
          "output_type": "execute_result",
          "data": {
            "text/plain": [
              "(3833, 24)"
            ]
          },
          "metadata": {},
          "execution_count": 19
        }
      ]
    },
    {
      "cell_type": "code",
      "execution_count": null,
      "metadata": {
        "id": "TietVngGmd-Z"
      },
      "outputs": [],
      "source": [
        "# Vérifier si les colonnes \"cp\" et \"codepostal\" sont identiques\n",
        "dataset['cp'].equals(dataset['codepostal'])"
      ]
    },
    {
      "cell_type": "code",
      "execution_count": null,
      "metadata": {
        "id": "OsiBB1Zrmd-Z"
      },
      "outputs": [],
      "source": [
        "# Vérifier si les colonnes \"position\" et \"number\" sont identiques\n",
        "dataset['position'].equals(dataset['number'])"
      ]
    },
    {
      "cell_type": "markdown",
      "source": [
        "Nous allons maintnant faire le bilan des variables à supprimer.\n",
        "\n",
        "* Les variables `si_sdbain`, `si_sdEau`, `etage`, `idtypechauffage`, `idtypecommerce` ne comportent que des valeurs nulles.\n",
        "* Les variables `idtiers` et `idagence` renvoient vers la même information. Par ailleurs, elles comportent beaucoup de trop de modalités par rapport au nombre d'oberservations.\n",
        "* Les variables `cp`, `codepostal` sont identiques et contiennent à peu près la même information que `codeinsee`. Cette information est déjà présente dans la viable `ville`."
      ],
      "metadata": {
        "id": "D20R4_BxAhxe"
      }
    },
    {
      "cell_type": "code",
      "execution_count": null,
      "metadata": {
        "id": "O24aG_U4md-b"
      },
      "outputs": [],
      "source": [
        "# Bilan des variables à supprimer\n",
        "to_remove = [\n",
        "    'si_sdbain', 'si_sdEau', 'etage',\n",
        "    'idtypechauffage', 'idtypecommerce', 'codepostal',\n",
        "    'number', 'idtiers', 'cp', 'codeinsee', 'idannonce', 'idagence']\n",
        "\n"
      ]
    },
    {
      "cell_type": "code",
      "source": [
        "# Enlever les colonnes dans to_remove\n",
        "\n",
        "dataset.drop(to_remove, axis = 1, inplace = True)\n",
        "dataset.shape"
      ],
      "metadata": {
        "colab": {
          "base_uri": "https://localhost:8080/"
        },
        "id": "dVNEM5UMC2h1",
        "outputId": "4053f239-829d-4b19-a8b2-52d03d106462"
      },
      "execution_count": null,
      "outputs": [
        {
          "output_type": "execute_result",
          "data": {
            "text/plain": [
              "(3833, 12)"
            ]
          },
          "metadata": {},
          "execution_count": 28
        }
      ]
    },
    {
      "cell_type": "markdown",
      "metadata": {
        "id": "T8Xp3rtwmd-b"
      },
      "source": [
        "Il est également nécessaire de distinguer entre les variables quantitatives et les variables catégorielles, qui seront analysées de manières différentes."
      ]
    },
    {
      "cell_type": "code",
      "execution_count": null,
      "metadata": {
        "id": "J0KA-0Ebmd-b"
      },
      "outputs": [],
      "source": [
        "categorical = [\n",
        "    'si_balcon', 'typedebien', 'idtypepublicationsourcecouplage',\n",
        "    'naturebien','idtypecuisine', 'ville'\n",
        "]\n",
        "\n",
        "numerical = [\n",
        "    'nb_chambres', 'nb_pieces', 'nb_photos', 'surface', 'position'\n",
        "]"
      ]
    },
    {
      "cell_type": "markdown",
      "metadata": {
        "id": "Aq-svoOBmd-b"
      },
      "source": [
        "## Analyse descriptive des variables quantitatives\n",
        "\n",
        "Dans ce qui suit, nous allons analyser les distributions des variables ainsi que les corrélations entre les différentes variables explicatives abvec la variable `prix`. Nous allons utiliser ici les deux packages de visualisation en Python `matplotlib` et `seaborn`."
      ]
    },
    {
      "cell_type": "code",
      "source": [
        "import matplotlib.pyplot as plt\n",
        "import seaborn as sns"
      ],
      "metadata": {
        "id": "ELNUam63Fwqi"
      },
      "execution_count": null,
      "outputs": []
    },
    {
      "cell_type": "markdown",
      "metadata": {
        "id": "F18gcaHVmd-c"
      },
      "source": [
        "Commençons d'abord par regarder la distribution de la variable d'intérêt `prix`.\n"
      ]
    },
    {
      "cell_type": "code",
      "execution_count": null,
      "metadata": {
        "id": "5QRg8zCxmd-c"
      },
      "outputs": [],
      "source": [
        "# densité de la variable prix sous forme de disribution"
      ]
    },
    {
      "cell_type": "markdown",
      "metadata": {
        "id": "3cFrOFf_md-d"
      },
      "source": [
        "Regardons maintenant les distributions des différentes variables numériques."
      ]
    },
    {
      "cell_type": "code",
      "execution_count": null,
      "metadata": {
        "id": "bzYuc2mpmd-d"
      },
      "outputs": [],
      "source": []
    },
    {
      "cell_type": "markdown",
      "source": [
        "Nous allons étudier maintenant les corrélation entre les variables numériques et la variable d'intérêt `prix`."
      ],
      "metadata": {
        "id": "bCFRgLwPJOrR"
      }
    },
    {
      "cell_type": "code",
      "source": [
        "# Tracer un corrélogramme des variables numériques\n"
      ],
      "metadata": {
        "id": "5W4NyJPdY_P2"
      },
      "execution_count": null,
      "outputs": []
    },
    {
      "cell_type": "markdown",
      "source": [
        "## Variables catégorielles\n",
        "\n",
        "On peut commencer pas visualiser les variables qui ont un faible nombre de modalités en fonction de la variable `prix`."
      ],
      "metadata": {
        "id": "cxNievVMKM4z"
      }
    },
    {
      "cell_type": "code",
      "execution_count": null,
      "metadata": {
        "id": "o-WzvfPymd-d"
      },
      "outputs": [],
      "source": []
    },
    {
      "cell_type": "markdown",
      "source": [
        "Regardons maintenant les variables catégorielles ayant un nombre imortant de modalités. Commençons par la variable `ville`."
      ],
      "metadata": {
        "id": "x0aaHIfiLnOE"
      }
    },
    {
      "cell_type": "code",
      "execution_count": null,
      "metadata": {
        "id": "VBbPD-_Nmd-e",
        "outputId": "8d7bfca9-0ec2-4195-d445-847f3162716c",
        "colab": {
          "base_uri": "https://localhost:8080/"
        }
      },
      "outputs": [
        {
          "output_type": "execute_result",
          "data": {
            "text/plain": [
              "112"
            ]
          },
          "metadata": {},
          "execution_count": 37
        }
      ],
      "source": [
        "# Afficher le nombre de modalités de la variable ville\n",
        "dataset['ville'].nunique()"
      ]
    },
    {
      "cell_type": "code",
      "source": [
        "# Répartition des observations sur les modalités\n",
        "dataset['ville'].value_counts()"
      ],
      "metadata": {
        "colab": {
          "base_uri": "https://localhost:8080/"
        },
        "id": "RKhJq-mGMEjj",
        "outputId": "83ceef4c-f9f2-4edf-f293-d5b90b0efaec"
      },
      "execution_count": null,
      "outputs": [
        {
          "output_type": "execute_result",
          "data": {
            "text/plain": [
              "ville\n",
              "Paris 16ème                443\n",
              "Paris 18ème                308\n",
              "Paris 15ème                299\n",
              "Paris 17ème                294\n",
              "Paris 13ème                278\n",
              "                          ... \n",
              "Mennecy                      1\n",
              "Les Pavillons-sous-Bois      1\n",
              "Igny                         1\n",
              "Héricy                       1\n",
              "Clichy                       1\n",
              "Name: count, Length: 112, dtype: int64"
            ]
          },
          "metadata": {},
          "execution_count": 38
        }
      ]
    },
    {
      "cell_type": "code",
      "source": [
        "# Afficher la répartition des observations pour les modalités qui ne commencent pas par \"Paris\"\n",
        "dataset[~dataset['ville'].str.startswith('Paris')]['ville'].value_counts()"
      ],
      "metadata": {
        "colab": {
          "base_uri": "https://localhost:8080/"
        },
        "id": "ynad46GvNKKr",
        "outputId": "6214c97d-e506-4e84-d809-4ab2f092fdb7"
      },
      "execution_count": null,
      "outputs": [
        {
          "output_type": "execute_result",
          "data": {
            "text/plain": [
              "ville\n",
              "Corbeil Essonnes           5\n",
              "Saint Germain en Laye      3\n",
              "Le Pecq                    3\n",
              "Villepinte                 3\n",
              "Suresnes                   3\n",
              "                          ..\n",
              "Vert le Petit              1\n",
              "Mennecy                    1\n",
              "Les Pavillons-sous-Bois    1\n",
              "Igny                       1\n",
              "Clichy                     1\n",
              "Name: count, Length: 92, dtype: int64"
            ]
          },
          "metadata": {},
          "execution_count": 39
        }
      ]
    },
    {
      "cell_type": "markdown",
      "source": [
        "Nous voyons ici que les villes situées en dehors de Paris sont très faiblement représentées dans le jeu de données. Nous allons les regrouper dans une seule modalité \"banlieue\"."
      ],
      "metadata": {
        "id": "9V2SZEeyM3K_"
      }
    },
    {
      "cell_type": "code",
      "execution_count": null,
      "metadata": {
        "id": "TKtyBzYpmd-e",
        "colab": {
          "base_uri": "https://localhost:8080/"
        },
        "outputId": "1f9e3233-4af6-4d1c-bd0d-79df68d4828e"
      },
      "outputs": [
        {
          "output_type": "execute_result",
          "data": {
            "text/plain": [
              "ville\n",
              "Paris 16ème    443\n",
              "Paris 18ème    308\n",
              "Paris 15ème    299\n",
              "Paris 17ème    294\n",
              "Paris 13ème    278\n",
              "Paris 19ème    212\n",
              "Paris 11ème    195\n",
              "Paris 14ème    194\n",
              "Paris 20ème    194\n",
              "Paris 10ème    167\n",
              "Paris 6ème     164\n",
              "Paris 12ème    162\n",
              "Paris 7ème     144\n",
              "Paris 8ème     129\n",
              "Banlieue       120\n",
              "Paris 5ème     115\n",
              "Paris 4ème     110\n",
              "Paris 9ème     100\n",
              "Paris 3ème      96\n",
              "Paris 2ème      65\n",
              "Paris 1er       44\n",
              "Name: count, dtype: int64"
            ]
          },
          "metadata": {},
          "execution_count": 40
        }
      ],
      "source": [
        "# Regrouper les observations dans une variable \"banlieue\"\n",
        "dataset['ville'] = dataset['ville'].apply(lambda x: x if x.startswith('Paris') else 'Banlieue')\n",
        "dataset['ville'].value_counts()"
      ]
    },
    {
      "cell_type": "code",
      "execution_count": null,
      "metadata": {
        "id": "Jepc7TOGmd-e"
      },
      "outputs": [],
      "source": [
        "# Visualiser le prix en fonction des modalités de la variable ville"
      ]
    },
    {
      "cell_type": "code",
      "execution_count": null,
      "metadata": {
        "id": "c2lWN4Himd-f"
      },
      "outputs": [],
      "source": [
        "# Visualiser le prix en fonction de la variable idtypecuisine"
      ]
    }
  ],
  "metadata": {
    "kernelspec": {
      "display_name": "Python 3.8.5 ('base')",
      "language": "python",
      "name": "python3"
    },
    "language_info": {
      "codemirror_mode": {
        "name": "ipython",
        "version": 3
      },
      "file_extension": ".py",
      "mimetype": "text/x-python",
      "name": "python",
      "nbconvert_exporter": "python",
      "pygments_lexer": "ipython3",
      "version": "3.8.5"
    },
    "orig_nbformat": 4,
    "vscode": {
      "interpreter": {
        "hash": "8fc18eb72a3eaeec3db897adacb3186856b03b84b4a3ec23e8fdb6cc72218a5c"
      }
    },
    "colab": {
      "provenance": [],
      "include_colab_link": true
    }
  },
  "nbformat": 4,
  "nbformat_minor": 0
}